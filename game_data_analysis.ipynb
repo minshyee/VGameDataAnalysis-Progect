{
  "nbformat": 4,
  "nbformat_minor": 0,
  "metadata": {
    "colab": {
      "name": "game-data-analysis.ipynb",
      "provenance": [],
      "collapsed_sections": [],
      "authorship_tag": "ABX9TyMa0xt6LIkYkiB61exZDeiM",
      "include_colab_link": true
    },
    "kernelspec": {
      "name": "python3",
      "display_name": "Python 3"
    },
    "language_info": {
      "name": "python"
    }
  },
  "cells": [
    {
      "cell_type": "markdown",
      "metadata": {
        "id": "view-in-github",
        "colab_type": "text"
      },
      "source": [
        "<a href=\"https://colab.research.google.com/github/minshyee/VGameDataAnalysis-Project/blob/main/game_data_analysis.ipynb\" target=\"_parent\"><img src=\"https://colab.research.google.com/assets/colab-badge.svg\" alt=\"Open In Colab\"/></a>"
      ]
    },
    {
      "cell_type": "code",
      "metadata": {
        "id": "5MLTUJmE0JUv",
        "colab": {
          "resources": {
            "http://localhost:8080/nbextensions/google.colab/files.js": {
              "data": "Ly8gQ29weXJpZ2h0IDIwMTcgR29vZ2xlIExMQwovLwovLyBMaWNlbnNlZCB1bmRlciB0aGUgQXBhY2hlIExpY2Vuc2UsIFZlcnNpb24gMi4wICh0aGUgIkxpY2Vuc2UiKTsKLy8geW91IG1heSBub3QgdXNlIHRoaXMgZmlsZSBleGNlcHQgaW4gY29tcGxpYW5jZSB3aXRoIHRoZSBMaWNlbnNlLgovLyBZb3UgbWF5IG9idGFpbiBhIGNvcHkgb2YgdGhlIExpY2Vuc2UgYXQKLy8KLy8gICAgICBodHRwOi8vd3d3LmFwYWNoZS5vcmcvbGljZW5zZXMvTElDRU5TRS0yLjAKLy8KLy8gVW5sZXNzIHJlcXVpcmVkIGJ5IGFwcGxpY2FibGUgbGF3IG9yIGFncmVlZCB0byBpbiB3cml0aW5nLCBzb2Z0d2FyZQovLyBkaXN0cmlidXRlZCB1bmRlciB0aGUgTGljZW5zZSBpcyBkaXN0cmlidXRlZCBvbiBhbiAiQVMgSVMiIEJBU0lTLAovLyBXSVRIT1VUIFdBUlJBTlRJRVMgT1IgQ09ORElUSU9OUyBPRiBBTlkgS0lORCwgZWl0aGVyIGV4cHJlc3Mgb3IgaW1wbGllZC4KLy8gU2VlIHRoZSBMaWNlbnNlIGZvciB0aGUgc3BlY2lmaWMgbGFuZ3VhZ2UgZ292ZXJuaW5nIHBlcm1pc3Npb25zIGFuZAovLyBsaW1pdGF0aW9ucyB1bmRlciB0aGUgTGljZW5zZS4KCi8qKgogKiBAZmlsZW92ZXJ2aWV3IEhlbHBlcnMgZm9yIGdvb2dsZS5jb2xhYiBQeXRob24gbW9kdWxlLgogKi8KKGZ1bmN0aW9uKHNjb3BlKSB7CmZ1bmN0aW9uIHNwYW4odGV4dCwgc3R5bGVBdHRyaWJ1dGVzID0ge30pIHsKICBjb25zdCBlbGVtZW50ID0gZG9jdW1lbnQuY3JlYXRlRWxlbWVudCgnc3BhbicpOwogIGVsZW1lbnQudGV4dENvbnRlbnQgPSB0ZXh0OwogIGZvciAoY29uc3Qga2V5IG9mIE9iamVjdC5rZXlzKHN0eWxlQXR0cmlidXRlcykpIHsKICAgIGVsZW1lbnQuc3R5bGVba2V5XSA9IHN0eWxlQXR0cmlidXRlc1trZXldOwogIH0KICByZXR1cm4gZWxlbWVudDsKfQoKLy8gTWF4IG51bWJlciBvZiBieXRlcyB3aGljaCB3aWxsIGJlIHVwbG9hZGVkIGF0IGEgdGltZS4KY29uc3QgTUFYX1BBWUxPQURfU0laRSA9IDEwMCAqIDEwMjQ7CgpmdW5jdGlvbiBfdXBsb2FkRmlsZXMoaW5wdXRJZCwgb3V0cHV0SWQpIHsKICBjb25zdCBzdGVwcyA9IHVwbG9hZEZpbGVzU3RlcChpbnB1dElkLCBvdXRwdXRJZCk7CiAgY29uc3Qgb3V0cHV0RWxlbWVudCA9IGRvY3VtZW50LmdldEVsZW1lbnRCeUlkKG91dHB1dElkKTsKICAvLyBDYWNoZSBzdGVwcyBvbiB0aGUgb3V0cHV0RWxlbWVudCB0byBtYWtlIGl0IGF2YWlsYWJsZSBmb3IgdGhlIG5leHQgY2FsbAogIC8vIHRvIHVwbG9hZEZpbGVzQ29udGludWUgZnJvbSBQeXRob24uCiAgb3V0cHV0RWxlbWVudC5zdGVwcyA9IHN0ZXBzOwoKICByZXR1cm4gX3VwbG9hZEZpbGVzQ29udGludWUob3V0cHV0SWQpOwp9CgovLyBUaGlzIGlzIHJvdWdobHkgYW4gYXN5bmMgZ2VuZXJhdG9yIChub3Qgc3VwcG9ydGVkIGluIHRoZSBicm93c2VyIHlldCksCi8vIHdoZXJlIHRoZXJlIGFyZSBtdWx0aXBsZSBhc3luY2hyb25vdXMgc3RlcHMgYW5kIHRoZSBQeXRob24gc2lkZSBpcyBnb2luZwovLyB0byBwb2xsIGZvciBjb21wbGV0aW9uIG9mIGVhY2ggc3RlcC4KLy8gVGhpcyB1c2VzIGEgUHJvbWlzZSB0byBibG9jayB0aGUgcHl0aG9uIHNpZGUgb24gY29tcGxldGlvbiBvZiBlYWNoIHN0ZXAsCi8vIHRoZW4gcGFzc2VzIHRoZSByZXN1bHQgb2YgdGhlIHByZXZpb3VzIHN0ZXAgYXMgdGhlIGlucHV0IHRvIHRoZSBuZXh0IHN0ZXAuCmZ1bmN0aW9uIF91cGxvYWRGaWxlc0NvbnRpbnVlKG91dHB1dElkKSB7CiAgY29uc3Qgb3V0cHV0RWxlbWVudCA9IGRvY3VtZW50LmdldEVsZW1lbnRCeUlkKG91dHB1dElkKTsKICBjb25zdCBzdGVwcyA9IG91dHB1dEVsZW1lbnQuc3RlcHM7CgogIGNvbnN0IG5leHQgPSBzdGVwcy5uZXh0KG91dHB1dEVsZW1lbnQubGFzdFByb21pc2VWYWx1ZSk7CiAgcmV0dXJuIFByb21pc2UucmVzb2x2ZShuZXh0LnZhbHVlLnByb21pc2UpLnRoZW4oKHZhbHVlKSA9PiB7CiAgICAvLyBDYWNoZSB0aGUgbGFzdCBwcm9taXNlIHZhbHVlIHRvIG1ha2UgaXQgYXZhaWxhYmxlIHRvIHRoZSBuZXh0CiAgICAvLyBzdGVwIG9mIHRoZSBnZW5lcmF0b3IuCiAgICBvdXRwdXRFbGVtZW50Lmxhc3RQcm9taXNlVmFsdWUgPSB2YWx1ZTsKICAgIHJldHVybiBuZXh0LnZhbHVlLnJlc3BvbnNlOwogIH0pOwp9CgovKioKICogR2VuZXJhdG9yIGZ1bmN0aW9uIHdoaWNoIGlzIGNhbGxlZCBiZXR3ZWVuIGVhY2ggYXN5bmMgc3RlcCBvZiB0aGUgdXBsb2FkCiAqIHByb2Nlc3MuCiAqIEBwYXJhbSB7c3RyaW5nfSBpbnB1dElkIEVsZW1lbnQgSUQgb2YgdGhlIGlucHV0IGZpbGUgcGlja2VyIGVsZW1lbnQuCiAqIEBwYXJhbSB7c3RyaW5nfSBvdXRwdXRJZCBFbGVtZW50IElEIG9mIHRoZSBvdXRwdXQgZGlzcGxheS4KICogQHJldHVybiB7IUl0ZXJhYmxlPCFPYmplY3Q+fSBJdGVyYWJsZSBvZiBuZXh0IHN0ZXBzLgogKi8KZnVuY3Rpb24qIHVwbG9hZEZpbGVzU3RlcChpbnB1dElkLCBvdXRwdXRJZCkgewogIGNvbnN0IGlucHV0RWxlbWVudCA9IGRvY3VtZW50LmdldEVsZW1lbnRCeUlkKGlucHV0SWQpOwogIGlucHV0RWxlbWVudC5kaXNhYmxlZCA9IGZhbHNlOwoKICBjb25zdCBvdXRwdXRFbGVtZW50ID0gZG9jdW1lbnQuZ2V0RWxlbWVudEJ5SWQob3V0cHV0SWQpOwogIG91dHB1dEVsZW1lbnQuaW5uZXJIVE1MID0gJyc7CgogIGNvbnN0IHBpY2tlZFByb21pc2UgPSBuZXcgUHJvbWlzZSgocmVzb2x2ZSkgPT4gewogICAgaW5wdXRFbGVtZW50LmFkZEV2ZW50TGlzdGVuZXIoJ2NoYW5nZScsIChlKSA9PiB7CiAgICAgIHJlc29sdmUoZS50YXJnZXQuZmlsZXMpOwogICAgfSk7CiAgfSk7CgogIGNvbnN0IGNhbmNlbCA9IGRvY3VtZW50LmNyZWF0ZUVsZW1lbnQoJ2J1dHRvbicpOwogIGlucHV0RWxlbWVudC5wYXJlbnRFbGVtZW50LmFwcGVuZENoaWxkKGNhbmNlbCk7CiAgY2FuY2VsLnRleHRDb250ZW50ID0gJ0NhbmNlbCB1cGxvYWQnOwogIGNvbnN0IGNhbmNlbFByb21pc2UgPSBuZXcgUHJvbWlzZSgocmVzb2x2ZSkgPT4gewogICAgY2FuY2VsLm9uY2xpY2sgPSAoKSA9PiB7CiAgICAgIHJlc29sdmUobnVsbCk7CiAgICB9OwogIH0pOwoKICAvLyBXYWl0IGZvciB0aGUgdXNlciB0byBwaWNrIHRoZSBmaWxlcy4KICBjb25zdCBmaWxlcyA9IHlpZWxkIHsKICAgIHByb21pc2U6IFByb21pc2UucmFjZShbcGlja2VkUHJvbWlzZSwgY2FuY2VsUHJvbWlzZV0pLAogICAgcmVzcG9uc2U6IHsKICAgICAgYWN0aW9uOiAnc3RhcnRpbmcnLAogICAgfQogIH07CgogIGNhbmNlbC5yZW1vdmUoKTsKCiAgLy8gRGlzYWJsZSB0aGUgaW5wdXQgZWxlbWVudCBzaW5jZSBmdXJ0aGVyIHBpY2tzIGFyZSBub3QgYWxsb3dlZC4KICBpbnB1dEVsZW1lbnQuZGlzYWJsZWQgPSB0cnVlOwoKICBpZiAoIWZpbGVzKSB7CiAgICByZXR1cm4gewogICAgICByZXNwb25zZTogewogICAgICAgIGFjdGlvbjogJ2NvbXBsZXRlJywKICAgICAgfQogICAgfTsKICB9CgogIGZvciAoY29uc3QgZmlsZSBvZiBmaWxlcykgewogICAgY29uc3QgbGkgPSBkb2N1bWVudC5jcmVhdGVFbGVtZW50KCdsaScpOwogICAgbGkuYXBwZW5kKHNwYW4oZmlsZS5uYW1lLCB7Zm9udFdlaWdodDogJ2JvbGQnfSkpOwogICAgbGkuYXBwZW5kKHNwYW4oCiAgICAgICAgYCgke2ZpbGUudHlwZSB8fCAnbi9hJ30pIC0gJHtmaWxlLnNpemV9IGJ5dGVzLCBgICsKICAgICAgICBgbGFzdCBtb2RpZmllZDogJHsKICAgICAgICAgICAgZmlsZS5sYXN0TW9kaWZpZWREYXRlID8gZmlsZS5sYXN0TW9kaWZpZWREYXRlLnRvTG9jYWxlRGF0ZVN0cmluZygpIDoKICAgICAgICAgICAgICAgICAgICAgICAgICAgICAgICAgICAgJ24vYSd9IC0gYCkpOwogICAgY29uc3QgcGVyY2VudCA9IHNwYW4oJzAlIGRvbmUnKTsKICAgIGxpLmFwcGVuZENoaWxkKHBlcmNlbnQpOwoKICAgIG91dHB1dEVsZW1lbnQuYXBwZW5kQ2hpbGQobGkpOwoKICAgIGNvbnN0IGZpbGVEYXRhUHJvbWlzZSA9IG5ldyBQcm9taXNlKChyZXNvbHZlKSA9PiB7CiAgICAgIGNvbnN0IHJlYWRlciA9IG5ldyBGaWxlUmVhZGVyKCk7CiAgICAgIHJlYWRlci5vbmxvYWQgPSAoZSkgPT4gewogICAgICAgIHJlc29sdmUoZS50YXJnZXQucmVzdWx0KTsKICAgICAgfTsKICAgICAgcmVhZGVyLnJlYWRBc0FycmF5QnVmZmVyKGZpbGUpOwogICAgfSk7CiAgICAvLyBXYWl0IGZvciB0aGUgZGF0YSB0byBiZSByZWFkeS4KICAgIGxldCBmaWxlRGF0YSA9IHlpZWxkIHsKICAgICAgcHJvbWlzZTogZmlsZURhdGFQcm9taXNlLAogICAgICByZXNwb25zZTogewogICAgICAgIGFjdGlvbjogJ2NvbnRpbnVlJywKICAgICAgfQogICAgfTsKCiAgICAvLyBVc2UgYSBjaHVua2VkIHNlbmRpbmcgdG8gYXZvaWQgbWVzc2FnZSBzaXplIGxpbWl0cy4gU2VlIGIvNjIxMTU2NjAuCiAgICBsZXQgcG9zaXRpb24gPSAwOwogICAgZG8gewogICAgICBjb25zdCBsZW5ndGggPSBNYXRoLm1pbihmaWxlRGF0YS5ieXRlTGVuZ3RoIC0gcG9zaXRpb24sIE1BWF9QQVlMT0FEX1NJWkUpOwogICAgICBjb25zdCBjaHVuayA9IG5ldyBVaW50OEFycmF5KGZpbGVEYXRhLCBwb3NpdGlvbiwgbGVuZ3RoKTsKICAgICAgcG9zaXRpb24gKz0gbGVuZ3RoOwoKICAgICAgY29uc3QgYmFzZTY0ID0gYnRvYShTdHJpbmcuZnJvbUNoYXJDb2RlLmFwcGx5KG51bGwsIGNodW5rKSk7CiAgICAgIHlpZWxkIHsKICAgICAgICByZXNwb25zZTogewogICAgICAgICAgYWN0aW9uOiAnYXBwZW5kJywKICAgICAgICAgIGZpbGU6IGZpbGUubmFtZSwKICAgICAgICAgIGRhdGE6IGJhc2U2NCwKICAgICAgICB9LAogICAgICB9OwoKICAgICAgbGV0IHBlcmNlbnREb25lID0gZmlsZURhdGEuYnl0ZUxlbmd0aCA9PT0gMCA/CiAgICAgICAgICAxMDAgOgogICAgICAgICAgTWF0aC5yb3VuZCgocG9zaXRpb24gLyBmaWxlRGF0YS5ieXRlTGVuZ3RoKSAqIDEwMCk7CiAgICAgIHBlcmNlbnQudGV4dENvbnRlbnQgPSBgJHtwZXJjZW50RG9uZX0lIGRvbmVgOwoKICAgIH0gd2hpbGUgKHBvc2l0aW9uIDwgZmlsZURhdGEuYnl0ZUxlbmd0aCk7CiAgfQoKICAvLyBBbGwgZG9uZS4KICB5aWVsZCB7CiAgICByZXNwb25zZTogewogICAgICBhY3Rpb246ICdjb21wbGV0ZScsCiAgICB9CiAgfTsKfQoKc2NvcGUuZ29vZ2xlID0gc2NvcGUuZ29vZ2xlIHx8IHt9OwpzY29wZS5nb29nbGUuY29sYWIgPSBzY29wZS5nb29nbGUuY29sYWIgfHwge307CnNjb3BlLmdvb2dsZS5jb2xhYi5fZmlsZXMgPSB7CiAgX3VwbG9hZEZpbGVzLAogIF91cGxvYWRGaWxlc0NvbnRpbnVlLAp9Owp9KShzZWxmKTsK",
              "ok": true,
              "headers": [
                [
                  "content-type",
                  "application/javascript"
                ]
              ],
              "status": 200,
              "status_text": ""
            }
          },
          "base_uri": "https://localhost:8080/",
          "height": 76
        },
        "outputId": "91b579dc-1198-40d0-e4cf-d7e0f5a3f210"
      },
      "source": [
        "from google.colab import files\n",
        "uploaded = files.upload()"
      ],
      "execution_count": 1,
      "outputs": [
        {
          "output_type": "display_data",
          "data": {
            "text/html": [
              "\n",
              "     <input type=\"file\" id=\"files-f8d2a069-4a9b-4ad5-b769-0b9f2911913d\" name=\"files[]\" multiple disabled\n",
              "        style=\"border:none\" />\n",
              "     <output id=\"result-f8d2a069-4a9b-4ad5-b769-0b9f2911913d\">\n",
              "      Upload widget is only available when the cell has been executed in the\n",
              "      current browser session. Please rerun this cell to enable.\n",
              "      </output>\n",
              "      <script src=\"/nbextensions/google.colab/files.js\"></script> "
            ],
            "text/plain": [
              "<IPython.core.display.HTML object>"
            ]
          },
          "metadata": {}
        },
        {
          "output_type": "stream",
          "name": "stdout",
          "text": [
            "Saving df_use.csv to df_use.csv\n"
          ]
        }
      ]
    },
    {
      "cell_type": "code",
      "metadata": {
        "id": "Htd99eL7oT08"
      },
      "source": [
        "import pandas as pd\n",
        "import numpy as np\n",
        "import seaborn as sns\n",
        "import matplotlib.pyplot as plt\n",
        "import plotly.express as px\n",
        "from sklearn.preprocessing import StandardScaler, Normalizer\n",
        "from sklearn.decomposition import PCA\n",
        "from scipy import stats"
      ],
      "execution_count": 279,
      "outputs": []
    },
    {
      "cell_type": "code",
      "metadata": {
        "colab": {
          "base_uri": "https://localhost:8080/",
          "height": 418
        },
        "id": "t2mD0R-yopAv",
        "outputId": "7da23566-8952-427a-fbee-43378c6cf677"
      },
      "source": [
        "df = pd.read_csv('df_use.csv')\n",
        "df = df.drop('Unnamed: 0', axis=1)\n",
        "df"
      ],
      "execution_count": 6,
      "outputs": [
        {
          "output_type": "execute_result",
          "data": {
            "text/html": [
              "<div>\n",
              "<style scoped>\n",
              "    .dataframe tbody tr th:only-of-type {\n",
              "        vertical-align: middle;\n",
              "    }\n",
              "\n",
              "    .dataframe tbody tr th {\n",
              "        vertical-align: top;\n",
              "    }\n",
              "\n",
              "    .dataframe thead th {\n",
              "        text-align: right;\n",
              "    }\n",
              "</style>\n",
              "<table border=\"1\" class=\"dataframe\">\n",
              "  <thead>\n",
              "    <tr style=\"text-align: right;\">\n",
              "      <th></th>\n",
              "      <th>Name</th>\n",
              "      <th>Platform</th>\n",
              "      <th>Year</th>\n",
              "      <th>Genre</th>\n",
              "      <th>Publisher</th>\n",
              "      <th>NA_Sales</th>\n",
              "      <th>EU_Sales</th>\n",
              "      <th>JP_Sales</th>\n",
              "      <th>Other_Sales</th>\n",
              "      <th>total_sales</th>\n",
              "    </tr>\n",
              "  </thead>\n",
              "  <tbody>\n",
              "    <tr>\n",
              "      <th>0</th>\n",
              "      <td>Candace Kane's Candy Factory</td>\n",
              "      <td>DS</td>\n",
              "      <td>2008</td>\n",
              "      <td>Action</td>\n",
              "      <td>Destineer</td>\n",
              "      <td>40</td>\n",
              "      <td>0</td>\n",
              "      <td>0</td>\n",
              "      <td>0</td>\n",
              "      <td>40</td>\n",
              "    </tr>\n",
              "    <tr>\n",
              "      <th>1</th>\n",
              "      <td>The Munchables</td>\n",
              "      <td>Wii</td>\n",
              "      <td>2009</td>\n",
              "      <td>Action</td>\n",
              "      <td>Namco Bandai Games</td>\n",
              "      <td>170</td>\n",
              "      <td>0</td>\n",
              "      <td>0</td>\n",
              "      <td>10</td>\n",
              "      <td>180</td>\n",
              "    </tr>\n",
              "    <tr>\n",
              "      <th>2</th>\n",
              "      <td>Otome wa Oanesama Boku ni Koi Shiteru Portable</td>\n",
              "      <td>PSP</td>\n",
              "      <td>2010</td>\n",
              "      <td>Adventure</td>\n",
              "      <td>Alchemist</td>\n",
              "      <td>0</td>\n",
              "      <td>0</td>\n",
              "      <td>20</td>\n",
              "      <td>0</td>\n",
              "      <td>20</td>\n",
              "    </tr>\n",
              "    <tr>\n",
              "      <th>3</th>\n",
              "      <td>Deal or No Deal: Special Edition</td>\n",
              "      <td>DS</td>\n",
              "      <td>2010</td>\n",
              "      <td>Misc</td>\n",
              "      <td>Zoo Games</td>\n",
              "      <td>40</td>\n",
              "      <td>0</td>\n",
              "      <td>0</td>\n",
              "      <td>0</td>\n",
              "      <td>40</td>\n",
              "    </tr>\n",
              "    <tr>\n",
              "      <th>4</th>\n",
              "      <td>Ben 10 Ultimate Alien: Cosmic Destruction</td>\n",
              "      <td>PS3</td>\n",
              "      <td>2010</td>\n",
              "      <td>Platform</td>\n",
              "      <td>D3Publisher</td>\n",
              "      <td>120</td>\n",
              "      <td>90</td>\n",
              "      <td>0</td>\n",
              "      <td>40</td>\n",
              "      <td>250</td>\n",
              "    </tr>\n",
              "    <tr>\n",
              "      <th>...</th>\n",
              "      <td>...</td>\n",
              "      <td>...</td>\n",
              "      <td>...</td>\n",
              "      <td>...</td>\n",
              "      <td>...</td>\n",
              "      <td>...</td>\n",
              "      <td>...</td>\n",
              "      <td>...</td>\n",
              "      <td>...</td>\n",
              "      <td>...</td>\n",
              "    </tr>\n",
              "    <tr>\n",
              "      <th>16236</th>\n",
              "      <td>Ice Age 2: The Meltdown</td>\n",
              "      <td>GC</td>\n",
              "      <td>2006</td>\n",
              "      <td>Platform</td>\n",
              "      <td>Vivendi Games</td>\n",
              "      <td>150</td>\n",
              "      <td>40</td>\n",
              "      <td>0</td>\n",
              "      <td>10</td>\n",
              "      <td>200</td>\n",
              "    </tr>\n",
              "    <tr>\n",
              "      <th>16237</th>\n",
              "      <td>Rainbow Islands: Revolution</td>\n",
              "      <td>PSP</td>\n",
              "      <td>2005</td>\n",
              "      <td>Action</td>\n",
              "      <td>Rising Star Games</td>\n",
              "      <td>10</td>\n",
              "      <td>0</td>\n",
              "      <td>0</td>\n",
              "      <td>0</td>\n",
              "      <td>10</td>\n",
              "    </tr>\n",
              "    <tr>\n",
              "      <th>16238</th>\n",
              "      <td>NBA 2K16</td>\n",
              "      <td>PS3</td>\n",
              "      <td>2015</td>\n",
              "      <td>Sports</td>\n",
              "      <td>Take-Two Interactive</td>\n",
              "      <td>440</td>\n",
              "      <td>190</td>\n",
              "      <td>30</td>\n",
              "      <td>130</td>\n",
              "      <td>790</td>\n",
              "    </tr>\n",
              "    <tr>\n",
              "      <th>16239</th>\n",
              "      <td>Toukiden: The Age of Demons</td>\n",
              "      <td>PSV</td>\n",
              "      <td>2013</td>\n",
              "      <td>Action</td>\n",
              "      <td>Tecmo Koei</td>\n",
              "      <td>50</td>\n",
              "      <td>50</td>\n",
              "      <td>250</td>\n",
              "      <td>30</td>\n",
              "      <td>380</td>\n",
              "    </tr>\n",
              "    <tr>\n",
              "      <th>16240</th>\n",
              "      <td>The King of Fighters '95</td>\n",
              "      <td>PS</td>\n",
              "      <td>1996</td>\n",
              "      <td>Fighting</td>\n",
              "      <td>Sony Computer Entertainment</td>\n",
              "      <td>0</td>\n",
              "      <td>0</td>\n",
              "      <td>160</td>\n",
              "      <td>10</td>\n",
              "      <td>170</td>\n",
              "    </tr>\n",
              "  </tbody>\n",
              "</table>\n",
              "<p>16241 rows × 10 columns</p>\n",
              "</div>"
            ],
            "text/plain": [
              "                                                 Name  ... total_sales\n",
              "0                        Candace Kane's Candy Factory  ...          40\n",
              "1                                      The Munchables  ...         180\n",
              "2      Otome wa Oanesama Boku ni Koi Shiteru Portable  ...          20\n",
              "3                    Deal or No Deal: Special Edition  ...          40\n",
              "4           Ben 10 Ultimate Alien: Cosmic Destruction  ...         250\n",
              "...                                               ...  ...         ...\n",
              "16236                         Ice Age 2: The Meltdown  ...         200\n",
              "16237                     Rainbow Islands: Revolution  ...          10\n",
              "16238                                        NBA 2K16  ...         790\n",
              "16239                     Toukiden: The Age of Demons  ...         380\n",
              "16240                        The King of Fighters '95  ...         170\n",
              "\n",
              "[16241 rows x 10 columns]"
            ]
          },
          "metadata": {},
          "execution_count": 6
        }
      ]
    },
    {
      "cell_type": "code",
      "metadata": {
        "id": "HsF1k7AmQYag"
      },
      "source": [
        "count = df.groupby('Year').count()\n",
        "count = count[['Name']]\n",
        "count.columns =['Release']\n",
        "count"
      ],
      "execution_count": null,
      "outputs": []
    },
    {
      "cell_type": "code",
      "metadata": {
        "id": "5uLpiVN-SGxA"
      },
      "source": [
        "sale = df.groupby('Year').sum()\n",
        "sale = sale[['total_sales']]\n",
        "sale"
      ],
      "execution_count": null,
      "outputs": []
    },
    {
      "cell_type": "code",
      "metadata": {
        "id": "UL8DTL-6S6sg"
      },
      "source": [
        "cands = pd.concat([count,sale],axis=1).reset_index()\n",
        "cands"
      ],
      "execution_count": null,
      "outputs": []
    },
    {
      "cell_type": "code",
      "metadata": {
        "id": "Inj6fEOOQ2Fg",
        "outputId": "c0dd4bb4-6822-406f-a1bd-e0ead071e5ce",
        "colab": {
          "base_uri": "https://localhost:8080/",
          "height": 284
        }
      },
      "source": [
        "plt.figure(figsize=(20, 8))\n",
        "fig, ax1 = plt.subplots()\n",
        "ax1.set_ylabel('Release')\n",
        "plt.plot(cands['Year'],cands['Release'],color='darkmagenta',label='Release')\n",
        "plt.legend(loc='best')\n",
        "ax2 = ax1.twinx()\n",
        "ax2.set_ylabel('total_sales')\n",
        "plt.plot(cands['Year'],cands['total_sales'],color='darkorange',label='Sales')\n",
        "plt.xlabel('Year',size='15')\n",
        "plt.xticks(fontsize='15')\n",
        "plt.xlim(1980, 2018)\n",
        "plt.legend(loc=1)\n",
        "plt.show()"
      ],
      "execution_count": 248,
      "outputs": [
        {
          "output_type": "display_data",
          "data": {
            "text/plain": [
              "<Figure size 1440x576 with 0 Axes>"
            ]
          },
          "metadata": {}
        },
        {
          "output_type": "display_data",
          "data": {
            "image/png": "[encoded data removed]",
            "text/plain": [
              "<Figure size 432x288 with 2 Axes>"
            ]
          },
          "metadata": {
            "needs_background": "light"
          }
        }
      ]
    },
    {
      "cell_type": "markdown",
      "metadata": {
        "id": "yCgeFx_6oLTf"
      },
      "source": [
        "# 지역에 따라 선호하는 게임장르가 다를까\n"
      ]
    },
    {
      "cell_type": "code",
      "metadata": {
        "colab": {
          "base_uri": "https://localhost:8080/",
          "height": 331
        },
        "id": "TWnqt1J0oSW0",
        "outputId": "e8c87b2a-5d3f-4728-c7d4-6dcc08cbe149"
      },
      "source": [
        "g_byloc = df.loc[:,['Genre', 'NA_Sales', 'EU_Sales', 'JP_Sales', 'Other_Sales']]\n",
        "g_byloc = g_byloc.groupby(df['Genre']).sum().reset_index()\n",
        "g_byloc\n",
        "\n",
        "plt.subplot(3,3,1)\n",
        "sns.barplot(x=g_byloc['Genre'], y=g_byloc['NA_Sales'])\n",
        "plt.xticks(rotation =90)\n",
        "\n",
        "plt.subplot(3,3,3)\n",
        "sns.barplot(x=g_byloc['Genre'], y=g_byloc['EU_Sales'])\n",
        "plt.xticks(rotation =90)\n",
        "\n",
        "plt.subplot(3,3,7)\n",
        "sns.barplot(x=g_byloc['Genre'], y=g_byloc['JP_Sales'])\n",
        "plt.xticks(rotation =90)\n",
        "\n",
        "plt.subplot(3,3,9)\n",
        "sns.barplot(x=g_byloc['Genre'], y=g_byloc['Other_Sales'])\n",
        "# plt.title(\"지역 별, 장르 수입액\")\n",
        "plt.xticks(rotation =90)\n",
        "plt.show()"
      ],
      "execution_count": 7,
      "outputs": [
        {
          "output_type": "display_data",
          "data": {
            "image/png": "[encoded data removed]",
            "text/plain": [
              "<Figure size 432x288 with 4 Axes>"
            ]
          },
          "metadata": {
            "needs_background": "light"
          }
        }
      ]
    },
    {
      "cell_type": "code",
      "metadata": {
        "colab": {
          "base_uri": "https://localhost:8080/",
          "height": 420
        },
        "id": "RFs-E-fZsZ7n",
        "outputId": "9492dee4-043e-4f19-d840-00efea566a1c"
      },
      "source": [
        "ch = g_byloc.sort_values('NA_Sales',ascending=False)[:3]\n",
        "ch = ch[['Genre','NA_Sales']]\n",
        "ch1 = g_byloc.sort_values('EU_Sales',ascending=False)[:3]\n",
        "ch1 = ch1[['Genre','EU_Sales']]\n",
        "ch2 = g_byloc.sort_values('JP_Sales',ascending=False)[:3]\n",
        "ch2 = ch2[['Genre','JP_Sales']]\n",
        "ch3 = g_byloc.sort_values('Other_Sales',ascending=False)[:3]\n",
        "ch3 = ch3[['Genre','Other_Sales']]\n",
        "chart = pd.concat([ch,ch1,ch2,ch3],ignore_index=True)\n",
        "chart = pd.melt(chart, id_vars=['Genre']).dropna()\n",
        "chart"
      ],
      "execution_count": 8,
      "outputs": [
        {
          "output_type": "execute_result",
          "data": {
            "text/html": [
              "<div>\n",
              "<style scoped>\n",
              "    .dataframe tbody tr th:only-of-type {\n",
              "        vertical-align: middle;\n",
              "    }\n",
              "\n",
              "    .dataframe tbody tr th {\n",
              "        vertical-align: top;\n",
              "    }\n",
              "\n",
              "    .dataframe thead th {\n",
              "        text-align: right;\n",
              "    }\n",
              "</style>\n",
              "<table border=\"1\" class=\"dataframe\">\n",
              "  <thead>\n",
              "    <tr style=\"text-align: right;\">\n",
              "      <th></th>\n",
              "      <th>Genre</th>\n",
              "      <th>variable</th>\n",
              "      <th>value</th>\n",
              "    </tr>\n",
              "  </thead>\n",
              "  <tbody>\n",
              "    <tr>\n",
              "      <th>0</th>\n",
              "      <td>Action</td>\n",
              "      <td>NA_Sales</td>\n",
              "      <td>858748.0</td>\n",
              "    </tr>\n",
              "    <tr>\n",
              "      <th>1</th>\n",
              "      <td>Sports</td>\n",
              "      <td>NA_Sales</td>\n",
              "      <td>667258.0</td>\n",
              "    </tr>\n",
              "    <tr>\n",
              "      <th>2</th>\n",
              "      <td>Shooter</td>\n",
              "      <td>NA_Sales</td>\n",
              "      <td>574479.0</td>\n",
              "    </tr>\n",
              "    <tr>\n",
              "      <th>15</th>\n",
              "      <td>Action</td>\n",
              "      <td>EU_Sales</td>\n",
              "      <td>513638.0</td>\n",
              "    </tr>\n",
              "    <tr>\n",
              "      <th>16</th>\n",
              "      <td>Sports</td>\n",
              "      <td>EU_Sales</td>\n",
              "      <td>370969.0</td>\n",
              "    </tr>\n",
              "    <tr>\n",
              "      <th>17</th>\n",
              "      <td>Shooter</td>\n",
              "      <td>EU_Sales</td>\n",
              "      <td>310229.0</td>\n",
              "    </tr>\n",
              "    <tr>\n",
              "      <th>30</th>\n",
              "      <td>Role-Playing</td>\n",
              "      <td>JP_Sales</td>\n",
              "      <td>342930.0</td>\n",
              "    </tr>\n",
              "    <tr>\n",
              "      <th>31</th>\n",
              "      <td>Action</td>\n",
              "      <td>JP_Sales</td>\n",
              "      <td>156600.0</td>\n",
              "    </tr>\n",
              "    <tr>\n",
              "      <th>32</th>\n",
              "      <td>Sports</td>\n",
              "      <td>JP_Sales</td>\n",
              "      <td>134760.0</td>\n",
              "    </tr>\n",
              "    <tr>\n",
              "      <th>45</th>\n",
              "      <td>Action</td>\n",
              "      <td>Other_Sales</td>\n",
              "      <td>183989.0</td>\n",
              "    </tr>\n",
              "    <tr>\n",
              "      <th>46</th>\n",
              "      <td>Sports</td>\n",
              "      <td>Other_Sales</td>\n",
              "      <td>132350.0</td>\n",
              "    </tr>\n",
              "    <tr>\n",
              "      <th>47</th>\n",
              "      <td>Shooter</td>\n",
              "      <td>Other_Sales</td>\n",
              "      <td>101860.0</td>\n",
              "    </tr>\n",
              "  </tbody>\n",
              "</table>\n",
              "</div>"
            ],
            "text/plain": [
              "           Genre     variable     value\n",
              "0         Action     NA_Sales  858748.0\n",
              "1         Sports     NA_Sales  667258.0\n",
              "2        Shooter     NA_Sales  574479.0\n",
              "15        Action     EU_Sales  513638.0\n",
              "16        Sports     EU_Sales  370969.0\n",
              "17       Shooter     EU_Sales  310229.0\n",
              "30  Role-Playing     JP_Sales  342930.0\n",
              "31        Action     JP_Sales  156600.0\n",
              "32        Sports     JP_Sales  134760.0\n",
              "45        Action  Other_Sales  183989.0\n",
              "46        Sports  Other_Sales  132350.0\n",
              "47       Shooter  Other_Sales  101860.0"
            ]
          },
          "metadata": {},
          "execution_count": 8
        }
      ]
    },
    {
      "cell_type": "code",
      "metadata": {
        "colab": {
          "base_uri": "https://localhost:8080/",
          "height": 298
        },
        "id": "mk6g9yw3JUiT",
        "outputId": "9580feca-de5f-447e-bbab-d3a8202e0ef2"
      },
      "source": [
        "sns.barplot(data=chart,x='variable', y='value', hue='Genre',palette='gnuplot_r')"
      ],
      "execution_count": 9,
      "outputs": [
        {
          "output_type": "execute_result",
          "data": {
            "text/plain": [
              "<matplotlib.axes._subplots.AxesSubplot at 0x7f1fa93662d0>"
            ]
          },
          "metadata": {},
          "execution_count": 9
        },
        {
          "output_type": "display_data",
          "data": {
            "image/png": "[encoded data removed]",
            "text/plain": [
              "<Figure size 432x288 with 1 Axes>"
            ]
          },
          "metadata": {
            "needs_background": "light"
          }
        }
      ]
    },
    {
      "cell_type": "markdown",
      "metadata": {
        "id": "-dbaR6cQ8GJA"
      },
      "source": [
        "## 정리\n",
        "대부분의 나라에서 Action장르가 가장 많은 출고량을 보였으나\n",
        "일본의 경우 Role-playing 장르가 압도적으로 높은것을 발견하였다.\n",
        "\n",
        "최대 출고량을 비교했을때 미국과 유럽의 출고량이 일본을 포함한 다른 나라들의 출고량이 2배 이상 높은 수치를 보이고 있음을 알고 있따.\n",
        "\n",
        "- 그래프 예쁘게 만들기\n",
        "- 출고량 단위를 변경?\n"
      ]
    },
    {
      "cell_type": "code",
      "metadata": {
        "id": "sEUcYYHvGmaU",
        "outputId": "9d4722f5-2e2d-4611-b2b5-bd4f3dcaa5d2",
        "colab": {
          "base_uri": "https://localhost:8080/",
          "height": 1000
        }
      },
      "source": [
        "data_reg1 = df.copy()\n",
        "\n",
        "data_reg1 = data_reg1[data_reg1.NA_Sales != 0]\n",
        "data_reg1 = data_reg1[data_reg1.EU_Sales != 0]\n",
        "data_reg1 = data_reg1[data_reg1.Other_Sales != 0]\n",
        "data_reg1 = data_reg1[data_reg1.JP_Sales != 0]\n",
        "data_reg1 = data_reg1[data_reg1.total_sales != 0]\n",
        "\n",
        "plt.figure(figsize=(25,30))\n",
        "sales_columns = ['NA_Sales', 'EU_Sales', 'JP_Sales', 'Other_Sales', 'total_sales']\n",
        "for i, column in enumerate(sales_columns):\n",
        "    plt.subplot(3,2,i+1)\n",
        "    sns.distplot(np.log(data_reg1[column]), bins=20, kde=False, fit=stats.gamma,color='gray');"
      ],
      "execution_count": 286,
      "outputs": [
        {
          "output_type": "stream",
          "name": "stderr",
          "text": [
            "/usr/local/lib/python3.7/dist-packages/seaborn/distributions.py:2619: FutureWarning:\n",
            "\n",
            "`distplot` is a deprecated function and will be removed in a future version. Please adapt your code to use either `displot` (a figure-level function with similar flexibility) or `histplot` (an axes-level function for histograms).\n",
            "\n",
            "/usr/local/lib/python3.7/dist-packages/seaborn/distributions.py:2619: FutureWarning:\n",
            "\n",
            "`distplot` is a deprecated function and will be removed in a future version. Please adapt your code to use either `displot` (a figure-level function with similar flexibility) or `histplot` (an axes-level function for histograms).\n",
            "\n",
            "/usr/local/lib/python3.7/dist-packages/seaborn/distributions.py:2619: FutureWarning:\n",
            "\n",
            "`distplot` is a deprecated function and will be removed in a future version. Please adapt your code to use either `displot` (a figure-level function with similar flexibility) or `histplot` (an axes-level function for histograms).\n",
            "\n",
            "/usr/local/lib/python3.7/dist-packages/seaborn/distributions.py:2619: FutureWarning:\n",
            "\n",
            "`distplot` is a deprecated function and will be removed in a future version. Please adapt your code to use either `displot` (a figure-level function with similar flexibility) or `histplot` (an axes-level function for histograms).\n",
            "\n",
            "/usr/local/lib/python3.7/dist-packages/seaborn/distributions.py:2619: FutureWarning:\n",
            "\n",
            "`distplot` is a deprecated function and will be removed in a future version. Please adapt your code to use either `displot` (a figure-level function with similar flexibility) or `histplot` (an axes-level function for histograms).\n",
            "\n"
          ]
        },
        {
          "output_type": "display_data",
          "data": {
            "image/png": "[encoded data removed]",
            "text/plain": [
              "<Figure size 1800x2160 with 5 Axes>"
            ]
          },
          "metadata": {
            "needs_background": "light"
          }
        }
      ]
    },
    {
      "cell_type": "markdown",
      "metadata": {
        "id": "tiF_zgSKqFgv"
      },
      "source": [
        "# 연도별 게임의 트렌드가 있을까?\n"
      ]
    },
    {
      "cell_type": "code",
      "metadata": {
        "colab": {
          "base_uri": "https://localhost:8080/",
          "height": 348
        },
        "id": "ELS_GVTOqIrn",
        "outputId": "eca1a8b7-7167-4301-f0e2-8b1a2757cc8c"
      },
      "source": [
        "#연도별 게임의 인기출시장르\n",
        "gcount_by_year = df['Genre'].groupby(df['Year']).value_counts()\n",
        "gcount_by_year = pd.DataFrame(gcount_by_year)\n",
        "\n",
        "prev=gcount_by_year.index[0][0]\n",
        "f_games = [gcount_by_year.index[0]]\n",
        "\n",
        "for i in range(len(gcount_by_year)):\n",
        "  if gcount_by_year.index[i][0] != prev:\n",
        "    prev = gcount_by_year.index[i][0]\n",
        "    f_games.append(gcount_by_year.index[i])\n",
        "  else:\n",
        "    continue\n",
        "\n",
        "f_games = pd.DataFrame(f_games, columns=['Year','Genre'])\n",
        "\n",
        "sns.boxplot(y = f_games['Year'], x = f_games['Genre'],palette='gnuplot_r') #box , strip, violin  중 하나로\n",
        "plt.xticks(rotation =90)\n"
      ],
      "execution_count": 263,
      "outputs": [
        {
          "output_type": "execute_result",
          "data": {
            "text/plain": [
              "(array([0, 1, 2, 3, 4, 5, 6, 7]), <a list of 8 Text major ticklabel objects>)"
            ]
          },
          "metadata": {},
          "execution_count": 263
        },
        {
          "output_type": "display_data",
          "data": {
            "image/png": "[encoded data removed]",
            "text/plain": [
              "<Figure size 432x288 with 1 Axes>"
            ]
          },
          "metadata": {
            "needs_background": "light"
          }
        }
      ]
    },
    {
      "cell_type": "code",
      "metadata": {
        "colab": {
          "base_uri": "https://localhost:8080/",
          "height": 297
        },
        "id": "54OrtTk481sx",
        "outputId": "7b76818b-c304-4995-fd25-762ae1e7572a"
      },
      "source": [
        "#연도별 게임의 인기출시플랫폼\n",
        "pcount_by_year = df['Platform'].groupby(df['Year']).value_counts()\n",
        "pcount_by_year = pd.DataFrame(pcount_by_year)\n",
        "\n",
        "prev=pcount_by_year.index[0][0]\n",
        "f_games = [pcount_by_year.index[0]]\n",
        "\n",
        "for i in range(len(pcount_by_year)):\n",
        "  if pcount_by_year.index[i][0] != prev:\n",
        "    prev = pcount_by_year.index[i][0]\n",
        "    f_games.append(pcount_by_year.index[i])\n",
        "  else:\n",
        "    continue\n",
        "\n",
        "f_games = pd.DataFrame(f_games, columns=['Year','Platform'])\n",
        "\n",
        "sns.boxplot(y = f_games['Year'], x = f_games['Platform'],palette='gnuplot_r') #box , strip, violin  중 하나로\n",
        "# plt.xticks(rotation =90)"
      ],
      "execution_count": 274,
      "outputs": [
        {
          "output_type": "execute_result",
          "data": {
            "text/plain": [
              "<matplotlib.axes._subplots.AxesSubplot at 0x7f1f925df650>"
            ]
          },
          "metadata": {},
          "execution_count": 274
        },
        {
          "output_type": "display_data",
          "data": {
            "image/png": "[encoded data removed]",
            "text/plain": [
              "<Figure size 432x288 with 1 Axes>"
            ]
          },
          "metadata": {
            "needs_background": "light"
          }
        }
      ]
    },
    {
      "cell_type": "code",
      "metadata": {
        "id": "UC1CgrtcBoeK",
        "outputId": "bac373b7-b8b6-45f5-e2dc-b51714966d2c",
        "colab": {
          "base_uri": "https://localhost:8080/",
          "height": 449
        }
      },
      "source": [
        "pcount_by_year"
      ],
      "execution_count": 269,
      "outputs": [
        {
          "output_type": "execute_result",
          "data": {
            "text/html": [
              "<div>\n",
              "<style scoped>\n",
              "    .dataframe tbody tr th:only-of-type {\n",
              "        vertical-align: middle;\n",
              "    }\n",
              "\n",
              "    .dataframe tbody tr th {\n",
              "        vertical-align: top;\n",
              "    }\n",
              "\n",
              "    .dataframe thead th {\n",
              "        text-align: right;\n",
              "    }\n",
              "</style>\n",
              "<table border=\"1\" class=\"dataframe\">\n",
              "  <thead>\n",
              "    <tr style=\"text-align: right;\">\n",
              "      <th></th>\n",
              "      <th></th>\n",
              "      <th>Platform</th>\n",
              "    </tr>\n",
              "    <tr>\n",
              "      <th>Year</th>\n",
              "      <th>Platform</th>\n",
              "      <th></th>\n",
              "    </tr>\n",
              "  </thead>\n",
              "  <tbody>\n",
              "    <tr>\n",
              "      <th>1980</th>\n",
              "      <th>2600</th>\n",
              "      <td>8</td>\n",
              "    </tr>\n",
              "    <tr>\n",
              "      <th>1981</th>\n",
              "      <th>2600</th>\n",
              "      <td>46</td>\n",
              "    </tr>\n",
              "    <tr>\n",
              "      <th>1982</th>\n",
              "      <th>2600</th>\n",
              "      <td>36</td>\n",
              "    </tr>\n",
              "    <tr>\n",
              "      <th rowspan=\"2\" valign=\"top\">1983</th>\n",
              "      <th>2600</th>\n",
              "      <td>11</td>\n",
              "    </tr>\n",
              "    <tr>\n",
              "      <th>NES</th>\n",
              "      <td>6</td>\n",
              "    </tr>\n",
              "    <tr>\n",
              "      <th>...</th>\n",
              "      <th>...</th>\n",
              "      <td>...</td>\n",
              "    </tr>\n",
              "    <tr>\n",
              "      <th rowspan=\"2\" valign=\"top\">2016</th>\n",
              "      <th>WiiU</th>\n",
              "      <td>10</td>\n",
              "    </tr>\n",
              "    <tr>\n",
              "      <th>X360</th>\n",
              "      <td>8</td>\n",
              "    </tr>\n",
              "    <tr>\n",
              "      <th rowspan=\"2\" valign=\"top\">2017</th>\n",
              "      <th>PSV</th>\n",
              "      <td>2</td>\n",
              "    </tr>\n",
              "    <tr>\n",
              "      <th>PS4</th>\n",
              "      <td>1</td>\n",
              "    </tr>\n",
              "    <tr>\n",
              "      <th>2020</th>\n",
              "      <th>DS</th>\n",
              "      <td>1</td>\n",
              "    </tr>\n",
              "  </tbody>\n",
              "</table>\n",
              "<p>241 rows × 1 columns</p>\n",
              "</div>"
            ],
            "text/plain": [
              "               Platform\n",
              "Year Platform          \n",
              "1980 2600             8\n",
              "1981 2600            46\n",
              "1982 2600            36\n",
              "1983 2600            11\n",
              "     NES              6\n",
              "...                 ...\n",
              "2016 WiiU            10\n",
              "     X360             8\n",
              "2017 PSV              2\n",
              "     PS4              1\n",
              "2020 DS               1\n",
              "\n",
              "[241 rows x 1 columns]"
            ]
          },
          "metadata": {},
          "execution_count": 269
        }
      ]
    },
    {
      "cell_type": "code",
      "metadata": {
        "id": "wB__jF3IbyXP"
      },
      "source": [
        "pcount_by_year.tail(50),gcount_by_year.head(40)"
      ],
      "execution_count": null,
      "outputs": []
    },
    {
      "cell_type": "code",
      "metadata": {
        "id": "aJ3_J4diqVr2"
      },
      "source": [
        "dfs = df[['NA_Sales','total_sales','EU_Sales','JP_Sales','Other_Sales']]"
      ],
      "execution_count": 57,
      "outputs": []
    },
    {
      "cell_type": "markdown",
      "metadata": {
        "id": "yAtUc6R70buS"
      },
      "source": [
        "# 출고량이 높은 게임에 대한 분석 및 시각화"
      ]
    },
    {
      "cell_type": "code",
      "metadata": {
        "id": "VphkjpJo0f97"
      },
      "source": [
        "df_sales = df.sort_values('total_sales',ascending=False).reset_index(drop=True)"
      ],
      "execution_count": 13,
      "outputs": []
    },
    {
      "cell_type": "code",
      "metadata": {
        "colab": {
          "base_uri": "https://localhost:8080/",
          "height": 976
        },
        "id": "DyoFoln0-w2B",
        "outputId": "6590fb37-dc2d-452e-d7bc-461a5e653693"
      },
      "source": [
        "df_sales_top10 = df_sales[:1624]\n",
        "df_sales_top10.head(30)"
      ],
      "execution_count": 275,
      "outputs": [
        {
          "output_type": "execute_result",
          "data": {
            "text/html": [
              "<div>\n",
              "<style scoped>\n",
              "    .dataframe tbody tr th:only-of-type {\n",
              "        vertical-align: middle;\n",
              "    }\n",
              "\n",
              "    .dataframe tbody tr th {\n",
              "        vertical-align: top;\n",
              "    }\n",
              "\n",
              "    .dataframe thead th {\n",
              "        text-align: right;\n",
              "    }\n",
              "</style>\n",
              "<table border=\"1\" class=\"dataframe\">\n",
              "  <thead>\n",
              "    <tr style=\"text-align: right;\">\n",
              "      <th></th>\n",
              "      <th>Name</th>\n",
              "      <th>Platform</th>\n",
              "      <th>Year</th>\n",
              "      <th>Genre</th>\n",
              "      <th>Publisher</th>\n",
              "      <th>NA_Sales</th>\n",
              "      <th>EU_Sales</th>\n",
              "      <th>JP_Sales</th>\n",
              "      <th>Other_Sales</th>\n",
              "      <th>total_sales</th>\n",
              "    </tr>\n",
              "  </thead>\n",
              "  <tbody>\n",
              "    <tr>\n",
              "      <th>0</th>\n",
              "      <td>Wii Sports</td>\n",
              "      <td>Wii</td>\n",
              "      <td>2006</td>\n",
              "      <td>Sports</td>\n",
              "      <td>Nintendo</td>\n",
              "      <td>41490</td>\n",
              "      <td>29020</td>\n",
              "      <td>3770</td>\n",
              "      <td>8460</td>\n",
              "      <td>82740</td>\n",
              "    </tr>\n",
              "    <tr>\n",
              "      <th>1</th>\n",
              "      <td>Super Mario Bros.</td>\n",
              "      <td>NES</td>\n",
              "      <td>1985</td>\n",
              "      <td>Platform</td>\n",
              "      <td>Nintendo</td>\n",
              "      <td>29080</td>\n",
              "      <td>3580</td>\n",
              "      <td>6810</td>\n",
              "      <td>770</td>\n",
              "      <td>40240</td>\n",
              "    </tr>\n",
              "    <tr>\n",
              "      <th>2</th>\n",
              "      <td>Mario Kart Wii</td>\n",
              "      <td>Wii</td>\n",
              "      <td>2008</td>\n",
              "      <td>Racing</td>\n",
              "      <td>Nintendo</td>\n",
              "      <td>15850</td>\n",
              "      <td>12880</td>\n",
              "      <td>3790</td>\n",
              "      <td>3310</td>\n",
              "      <td>35830</td>\n",
              "    </tr>\n",
              "    <tr>\n",
              "      <th>3</th>\n",
              "      <td>Wii Sports Resort</td>\n",
              "      <td>Wii</td>\n",
              "      <td>2009</td>\n",
              "      <td>Sports</td>\n",
              "      <td>Nintendo</td>\n",
              "      <td>15750</td>\n",
              "      <td>11010</td>\n",
              "      <td>3280</td>\n",
              "      <td>2960</td>\n",
              "      <td>33000</td>\n",
              "    </tr>\n",
              "    <tr>\n",
              "      <th>4</th>\n",
              "      <td>Pokemon Red/Pokemon Blue</td>\n",
              "      <td>GB</td>\n",
              "      <td>1996</td>\n",
              "      <td>Role-Playing</td>\n",
              "      <td>Nintendo</td>\n",
              "      <td>11270</td>\n",
              "      <td>8890</td>\n",
              "      <td>10220</td>\n",
              "      <td>1000</td>\n",
              "      <td>31380</td>\n",
              "    </tr>\n",
              "    <tr>\n",
              "      <th>5</th>\n",
              "      <td>Tetris</td>\n",
              "      <td>GB</td>\n",
              "      <td>1989</td>\n",
              "      <td>Puzzle</td>\n",
              "      <td>Nintendo</td>\n",
              "      <td>23200</td>\n",
              "      <td>2260</td>\n",
              "      <td>4220</td>\n",
              "      <td>580</td>\n",
              "      <td>30260</td>\n",
              "    </tr>\n",
              "    <tr>\n",
              "      <th>6</th>\n",
              "      <td>New Super Mario Bros.</td>\n",
              "      <td>DS</td>\n",
              "      <td>2006</td>\n",
              "      <td>Platform</td>\n",
              "      <td>Nintendo</td>\n",
              "      <td>11380</td>\n",
              "      <td>9230</td>\n",
              "      <td>6500</td>\n",
              "      <td>2900</td>\n",
              "      <td>30010</td>\n",
              "    </tr>\n",
              "    <tr>\n",
              "      <th>7</th>\n",
              "      <td>Wii Play</td>\n",
              "      <td>Wii</td>\n",
              "      <td>2006</td>\n",
              "      <td>Misc</td>\n",
              "      <td>Nintendo</td>\n",
              "      <td>14030</td>\n",
              "      <td>9200</td>\n",
              "      <td>2930</td>\n",
              "      <td>2850</td>\n",
              "      <td>29010</td>\n",
              "    </tr>\n",
              "    <tr>\n",
              "      <th>8</th>\n",
              "      <td>New Super Mario Bros. Wii</td>\n",
              "      <td>Wii</td>\n",
              "      <td>2009</td>\n",
              "      <td>Platform</td>\n",
              "      <td>Nintendo</td>\n",
              "      <td>14590</td>\n",
              "      <td>7060</td>\n",
              "      <td>4700</td>\n",
              "      <td>2260</td>\n",
              "      <td>28610</td>\n",
              "    </tr>\n",
              "    <tr>\n",
              "      <th>9</th>\n",
              "      <td>Duck Hunt</td>\n",
              "      <td>NES</td>\n",
              "      <td>1984</td>\n",
              "      <td>Shooter</td>\n",
              "      <td>Nintendo</td>\n",
              "      <td>26930</td>\n",
              "      <td>630</td>\n",
              "      <td>280</td>\n",
              "      <td>470</td>\n",
              "      <td>28310</td>\n",
              "    </tr>\n",
              "    <tr>\n",
              "      <th>10</th>\n",
              "      <td>Nintendogs</td>\n",
              "      <td>DS</td>\n",
              "      <td>2005</td>\n",
              "      <td>Simulation</td>\n",
              "      <td>Nintendo</td>\n",
              "      <td>9070</td>\n",
              "      <td>11000</td>\n",
              "      <td>1930</td>\n",
              "      <td>2750</td>\n",
              "      <td>24750</td>\n",
              "    </tr>\n",
              "    <tr>\n",
              "      <th>11</th>\n",
              "      <td>Mario Kart DS</td>\n",
              "      <td>DS</td>\n",
              "      <td>2005</td>\n",
              "      <td>Racing</td>\n",
              "      <td>Nintendo</td>\n",
              "      <td>9810</td>\n",
              "      <td>7570</td>\n",
              "      <td>4130</td>\n",
              "      <td>1920</td>\n",
              "      <td>23430</td>\n",
              "    </tr>\n",
              "    <tr>\n",
              "      <th>12</th>\n",
              "      <td>Pokemon Gold/Pokemon Silver</td>\n",
              "      <td>GB</td>\n",
              "      <td>1999</td>\n",
              "      <td>Role-Playing</td>\n",
              "      <td>Nintendo</td>\n",
              "      <td>9000</td>\n",
              "      <td>6180</td>\n",
              "      <td>7200</td>\n",
              "      <td>710</td>\n",
              "      <td>23090</td>\n",
              "    </tr>\n",
              "    <tr>\n",
              "      <th>13</th>\n",
              "      <td>Wii Fit</td>\n",
              "      <td>Wii</td>\n",
              "      <td>2007</td>\n",
              "      <td>Sports</td>\n",
              "      <td>Nintendo</td>\n",
              "      <td>8940</td>\n",
              "      <td>8029</td>\n",
              "      <td>3600</td>\n",
              "      <td>2150</td>\n",
              "      <td>22719</td>\n",
              "    </tr>\n",
              "    <tr>\n",
              "      <th>14</th>\n",
              "      <td>Wii Fit Plus</td>\n",
              "      <td>Wii</td>\n",
              "      <td>2009</td>\n",
              "      <td>Sports</td>\n",
              "      <td>Nintendo</td>\n",
              "      <td>9090</td>\n",
              "      <td>8590</td>\n",
              "      <td>2530</td>\n",
              "      <td>1790</td>\n",
              "      <td>22000</td>\n",
              "    </tr>\n",
              "    <tr>\n",
              "      <th>15</th>\n",
              "      <td>Kinect Adventures!</td>\n",
              "      <td>X360</td>\n",
              "      <td>2010</td>\n",
              "      <td>Misc</td>\n",
              "      <td>Microsoft Game Studios</td>\n",
              "      <td>14970</td>\n",
              "      <td>4940</td>\n",
              "      <td>240</td>\n",
              "      <td>1670</td>\n",
              "      <td>21820</td>\n",
              "    </tr>\n",
              "    <tr>\n",
              "      <th>16</th>\n",
              "      <td>Grand Theft Auto V</td>\n",
              "      <td>PS3</td>\n",
              "      <td>2013</td>\n",
              "      <td>Action</td>\n",
              "      <td>Take-Two Interactive</td>\n",
              "      <td>7010</td>\n",
              "      <td>9270</td>\n",
              "      <td>970</td>\n",
              "      <td>4140</td>\n",
              "      <td>21390</td>\n",
              "    </tr>\n",
              "    <tr>\n",
              "      <th>17</th>\n",
              "      <td>Grand Theft Auto: San Andreas</td>\n",
              "      <td>PS2</td>\n",
              "      <td>2004</td>\n",
              "      <td>Action</td>\n",
              "      <td>Take-Two Interactive</td>\n",
              "      <td>9430</td>\n",
              "      <td>400</td>\n",
              "      <td>410</td>\n",
              "      <td>10570</td>\n",
              "      <td>20810</td>\n",
              "    </tr>\n",
              "    <tr>\n",
              "      <th>18</th>\n",
              "      <td>Super Mario World</td>\n",
              "      <td>SNES</td>\n",
              "      <td>1990</td>\n",
              "      <td>Platform</td>\n",
              "      <td>Nintendo</td>\n",
              "      <td>12780</td>\n",
              "      <td>3750</td>\n",
              "      <td>3540</td>\n",
              "      <td>550</td>\n",
              "      <td>20620</td>\n",
              "    </tr>\n",
              "    <tr>\n",
              "      <th>19</th>\n",
              "      <td>Brain Age: Train Your Brain in Minutes a Day</td>\n",
              "      <td>DS</td>\n",
              "      <td>2005</td>\n",
              "      <td>Misc</td>\n",
              "      <td>Nintendo</td>\n",
              "      <td>4750</td>\n",
              "      <td>9260</td>\n",
              "      <td>4160</td>\n",
              "      <td>2050</td>\n",
              "      <td>20220</td>\n",
              "    </tr>\n",
              "    <tr>\n",
              "      <th>20</th>\n",
              "      <td>Pokemon Diamond/Pokemon Pearl</td>\n",
              "      <td>DS</td>\n",
              "      <td>2006</td>\n",
              "      <td>Role-Playing</td>\n",
              "      <td>Nintendo</td>\n",
              "      <td>6420</td>\n",
              "      <td>4520</td>\n",
              "      <td>6040</td>\n",
              "      <td>1370</td>\n",
              "      <td>18350</td>\n",
              "    </tr>\n",
              "    <tr>\n",
              "      <th>21</th>\n",
              "      <td>Super Mario Land</td>\n",
              "      <td>GB</td>\n",
              "      <td>1989</td>\n",
              "      <td>Platform</td>\n",
              "      <td>Nintendo</td>\n",
              "      <td>10830</td>\n",
              "      <td>2710</td>\n",
              "      <td>4180</td>\n",
              "      <td>420</td>\n",
              "      <td>18140</td>\n",
              "    </tr>\n",
              "    <tr>\n",
              "      <th>22</th>\n",
              "      <td>Super Mario Bros. 3</td>\n",
              "      <td>NES</td>\n",
              "      <td>1988</td>\n",
              "      <td>Platform</td>\n",
              "      <td>Nintendo</td>\n",
              "      <td>9540</td>\n",
              "      <td>3440</td>\n",
              "      <td>3840</td>\n",
              "      <td>460</td>\n",
              "      <td>17280</td>\n",
              "    </tr>\n",
              "    <tr>\n",
              "      <th>23</th>\n",
              "      <td>Grand Theft Auto V</td>\n",
              "      <td>X360</td>\n",
              "      <td>2013</td>\n",
              "      <td>Action</td>\n",
              "      <td>Take-Two Interactive</td>\n",
              "      <td>9630</td>\n",
              "      <td>5310</td>\n",
              "      <td>60</td>\n",
              "      <td>1380</td>\n",
              "      <td>16380</td>\n",
              "    </tr>\n",
              "    <tr>\n",
              "      <th>24</th>\n",
              "      <td>Grand Theft Auto: Vice City</td>\n",
              "      <td>PS2</td>\n",
              "      <td>2002</td>\n",
              "      <td>Action</td>\n",
              "      <td>Take-Two Interactive</td>\n",
              "      <td>8410</td>\n",
              "      <td>5490</td>\n",
              "      <td>470</td>\n",
              "      <td>1780</td>\n",
              "      <td>16150</td>\n",
              "    </tr>\n",
              "    <tr>\n",
              "      <th>25</th>\n",
              "      <td>Pokemon Ruby/Pokemon Sapphire</td>\n",
              "      <td>GBA</td>\n",
              "      <td>2002</td>\n",
              "      <td>Role-Playing</td>\n",
              "      <td>Nintendo</td>\n",
              "      <td>6060</td>\n",
              "      <td>3900</td>\n",
              "      <td>5380</td>\n",
              "      <td>500</td>\n",
              "      <td>15840</td>\n",
              "    </tr>\n",
              "    <tr>\n",
              "      <th>26</th>\n",
              "      <td>Pokemon Black/Pokemon White</td>\n",
              "      <td>DS</td>\n",
              "      <td>2010</td>\n",
              "      <td>Role-Playing</td>\n",
              "      <td>Nintendo</td>\n",
              "      <td>5570</td>\n",
              "      <td>3280</td>\n",
              "      <td>5650</td>\n",
              "      <td>820</td>\n",
              "      <td>15320</td>\n",
              "    </tr>\n",
              "    <tr>\n",
              "      <th>27</th>\n",
              "      <td>Brain Age 2: More Training in Minutes a Day</td>\n",
              "      <td>DS</td>\n",
              "      <td>2005</td>\n",
              "      <td>Puzzle</td>\n",
              "      <td>Nintendo</td>\n",
              "      <td>3440</td>\n",
              "      <td>5360</td>\n",
              "      <td>5320</td>\n",
              "      <td>1180</td>\n",
              "      <td>15300</td>\n",
              "    </tr>\n",
              "    <tr>\n",
              "      <th>28</th>\n",
              "      <td>Gran Turismo 3: A-Spec</td>\n",
              "      <td>PS2</td>\n",
              "      <td>2001</td>\n",
              "      <td>Racing</td>\n",
              "      <td>Sony Computer Entertainment</td>\n",
              "      <td>6850</td>\n",
              "      <td>5090</td>\n",
              "      <td>1870</td>\n",
              "      <td>1160</td>\n",
              "      <td>14970</td>\n",
              "    </tr>\n",
              "    <tr>\n",
              "      <th>29</th>\n",
              "      <td>Call of Duty: Modern Warfare 3</td>\n",
              "      <td>X360</td>\n",
              "      <td>2011</td>\n",
              "      <td>Shooter</td>\n",
              "      <td>Activision</td>\n",
              "      <td>9030</td>\n",
              "      <td>4280</td>\n",
              "      <td>130</td>\n",
              "      <td>1320</td>\n",
              "      <td>14760</td>\n",
              "    </tr>\n",
              "  </tbody>\n",
              "</table>\n",
              "</div>"
            ],
            "text/plain": [
              "                                            Name  ... total_sales\n",
              "0                                     Wii Sports  ...       82740\n",
              "1                              Super Mario Bros.  ...       40240\n",
              "2                                 Mario Kart Wii  ...       35830\n",
              "3                              Wii Sports Resort  ...       33000\n",
              "4                       Pokemon Red/Pokemon Blue  ...       31380\n",
              "5                                         Tetris  ...       30260\n",
              "6                          New Super Mario Bros.  ...       30010\n",
              "7                                       Wii Play  ...       29010\n",
              "8                      New Super Mario Bros. Wii  ...       28610\n",
              "9                                      Duck Hunt  ...       28310\n",
              "10                                    Nintendogs  ...       24750\n",
              "11                                 Mario Kart DS  ...       23430\n",
              "12                   Pokemon Gold/Pokemon Silver  ...       23090\n",
              "13                                       Wii Fit  ...       22719\n",
              "14                                  Wii Fit Plus  ...       22000\n",
              "15                            Kinect Adventures!  ...       21820\n",
              "16                            Grand Theft Auto V  ...       21390\n",
              "17                 Grand Theft Auto: San Andreas  ...       20810\n",
              "18                             Super Mario World  ...       20620\n",
              "19  Brain Age: Train Your Brain in Minutes a Day  ...       20220\n",
              "20                 Pokemon Diamond/Pokemon Pearl  ...       18350\n",
              "21                              Super Mario Land  ...       18140\n",
              "22                           Super Mario Bros. 3  ...       17280\n",
              "23                            Grand Theft Auto V  ...       16380\n",
              "24                   Grand Theft Auto: Vice City  ...       16150\n",
              "25                 Pokemon Ruby/Pokemon Sapphire  ...       15840\n",
              "26                   Pokemon Black/Pokemon White  ...       15320\n",
              "27   Brain Age 2: More Training in Minutes a Day  ...       15300\n",
              "28                        Gran Turismo 3: A-Spec  ...       14970\n",
              "29                Call of Duty: Modern Warfare 3  ...       14760\n",
              "\n",
              "[30 rows x 10 columns]"
            ]
          },
          "metadata": {},
          "execution_count": 275
        }
      ]
    },
    {
      "cell_type": "code",
      "metadata": {
        "id": "Cj5thNZObFKw",
        "outputId": "57359b45-3c0b-47ac-f3eb-6e1b9f718a8e",
        "colab": {
          "base_uri": "https://localhost:8080/",
          "height": 512
        }
      },
      "source": [
        "df_top10_a = df_sales_top10.sort_values(['total_sales'],ascending=False).head(15)\n",
        "df_top10_a = df_top10_a[['Name','total_sales']]\n",
        "# df_top10_a = df_top10_a.groupby('Name').sum().head(10)\n",
        "df_top10_a = df_top10_a.sort_values('total_sales', ascending=False).reset_index(drop=True)\n",
        "df_top10_a"
      ],
      "execution_count": 253,
      "outputs": [
        {
          "output_type": "execute_result",
          "data": {
            "text/html": [
              "<div>\n",
              "<style scoped>\n",
              "    .dataframe tbody tr th:only-of-type {\n",
              "        vertical-align: middle;\n",
              "    }\n",
              "\n",
              "    .dataframe tbody tr th {\n",
              "        vertical-align: top;\n",
              "    }\n",
              "\n",
              "    .dataframe thead th {\n",
              "        text-align: right;\n",
              "    }\n",
              "</style>\n",
              "<table border=\"1\" class=\"dataframe\">\n",
              "  <thead>\n",
              "    <tr style=\"text-align: right;\">\n",
              "      <th></th>\n",
              "      <th>Name</th>\n",
              "      <th>total_sales</th>\n",
              "    </tr>\n",
              "  </thead>\n",
              "  <tbody>\n",
              "    <tr>\n",
              "      <th>0</th>\n",
              "      <td>Wii Sports</td>\n",
              "      <td>82740</td>\n",
              "    </tr>\n",
              "    <tr>\n",
              "      <th>1</th>\n",
              "      <td>Super Mario Bros.</td>\n",
              "      <td>40240</td>\n",
              "    </tr>\n",
              "    <tr>\n",
              "      <th>2</th>\n",
              "      <td>Mario Kart Wii</td>\n",
              "      <td>35830</td>\n",
              "    </tr>\n",
              "    <tr>\n",
              "      <th>3</th>\n",
              "      <td>Wii Sports Resort</td>\n",
              "      <td>33000</td>\n",
              "    </tr>\n",
              "    <tr>\n",
              "      <th>4</th>\n",
              "      <td>Pokemon Red/Pokemon Blue</td>\n",
              "      <td>31380</td>\n",
              "    </tr>\n",
              "    <tr>\n",
              "      <th>5</th>\n",
              "      <td>Tetris</td>\n",
              "      <td>30260</td>\n",
              "    </tr>\n",
              "    <tr>\n",
              "      <th>6</th>\n",
              "      <td>New Super Mario Bros.</td>\n",
              "      <td>30010</td>\n",
              "    </tr>\n",
              "    <tr>\n",
              "      <th>7</th>\n",
              "      <td>Wii Play</td>\n",
              "      <td>29010</td>\n",
              "    </tr>\n",
              "    <tr>\n",
              "      <th>8</th>\n",
              "      <td>New Super Mario Bros. Wii</td>\n",
              "      <td>28610</td>\n",
              "    </tr>\n",
              "    <tr>\n",
              "      <th>9</th>\n",
              "      <td>Duck Hunt</td>\n",
              "      <td>28310</td>\n",
              "    </tr>\n",
              "    <tr>\n",
              "      <th>10</th>\n",
              "      <td>Nintendogs</td>\n",
              "      <td>24750</td>\n",
              "    </tr>\n",
              "    <tr>\n",
              "      <th>11</th>\n",
              "      <td>Mario Kart DS</td>\n",
              "      <td>23430</td>\n",
              "    </tr>\n",
              "    <tr>\n",
              "      <th>12</th>\n",
              "      <td>Pokemon Gold/Pokemon Silver</td>\n",
              "      <td>23090</td>\n",
              "    </tr>\n",
              "    <tr>\n",
              "      <th>13</th>\n",
              "      <td>Wii Fit</td>\n",
              "      <td>22719</td>\n",
              "    </tr>\n",
              "    <tr>\n",
              "      <th>14</th>\n",
              "      <td>Wii Fit Plus</td>\n",
              "      <td>22000</td>\n",
              "    </tr>\n",
              "  </tbody>\n",
              "</table>\n",
              "</div>"
            ],
            "text/plain": [
              "                           Name  total_sales\n",
              "0                    Wii Sports        82740\n",
              "1             Super Mario Bros.        40240\n",
              "2                Mario Kart Wii        35830\n",
              "3             Wii Sports Resort        33000\n",
              "4      Pokemon Red/Pokemon Blue        31380\n",
              "5                        Tetris        30260\n",
              "6         New Super Mario Bros.        30010\n",
              "7                      Wii Play        29010\n",
              "8     New Super Mario Bros. Wii        28610\n",
              "9                     Duck Hunt        28310\n",
              "10                   Nintendogs        24750\n",
              "11                Mario Kart DS        23430\n",
              "12  Pokemon Gold/Pokemon Silver        23090\n",
              "13                      Wii Fit        22719\n",
              "14                 Wii Fit Plus        22000"
            ]
          },
          "metadata": {},
          "execution_count": 253
        }
      ]
    },
    {
      "cell_type": "code",
      "metadata": {
        "id": "7wIlxhFJbQPS",
        "outputId": "f329d296-dfd5-4502-9525-2dc1cad478ef",
        "colab": {
          "base_uri": "https://localhost:8080/",
          "height": 298
        }
      },
      "source": [
        "sns.barplot(data=df_top10_a,x=\"total_sales\",y=\"Name\",palette='gnuplot_r')\n",
        "# plt.xticks(rotation =90)\n",
        "plt.xlabel('total_sales')\n",
        "plt.ylabel('Name')"
      ],
      "execution_count": 256,
      "outputs": [
        {
          "output_type": "execute_result",
          "data": {
            "text/plain": [
              "Text(0, 0.5, 'Name')"
            ]
          },
          "metadata": {},
          "execution_count": 256
        },
        {
          "output_type": "display_data",
          "data": {
            "image/png": "[encoded data removed]",
            "text/plain": [
              "<Figure size 432x288 with 1 Axes>"
            ]
          },
          "metadata": {
            "needs_background": "light"
          }
        }
      ]
    },
    {
      "cell_type": "code",
      "metadata": {
        "id": "6Grq28GQlABB"
      },
      "source": [
        "year = pd.DataFrame(df_sales_top10['Year'].value_counts()).reset_index()\n",
        "year"
      ],
      "execution_count": null,
      "outputs": []
    },
    {
      "cell_type": "code",
      "metadata": {
        "colab": {
          "base_uri": "https://localhost:8080/",
          "height": 313
        },
        "id": "JHBNOCFtmTa0",
        "outputId": "cff5da4d-fea6-49ab-88ba-026884a4cf73"
      },
      "source": [
        "#출고량 상위 10% 게임이 출시된 연도\n",
        "sns.barplot(data=year,x=\"index\",y=\"Year\",palette='gnuplot_r')\n",
        "plt.xticks(rotation =90)\n",
        "plt.xlabel('Year')\n",
        "plt.ylabel('Count')"
      ],
      "execution_count": 16,
      "outputs": [
        {
          "output_type": "execute_result",
          "data": {
            "text/plain": [
              "Text(0, 0.5, 'Count')"
            ]
          },
          "metadata": {},
          "execution_count": 16
        },
        {
          "output_type": "display_data",
          "data": {
            "image/png": "[encoded data removed]",
            "text/plain": [
              "<Figure size 432x288 with 1 Axes>"
            ]
          },
          "metadata": {
            "needs_background": "light"
          }
        }
      ]
    },
    {
      "cell_type": "code",
      "metadata": {
        "id": "mHctuRnKoJCf",
        "outputId": "00a32aec-e4be-4c55-bfb1-1adbc4c94ec9",
        "colab": {
          "base_uri": "https://localhost:8080/",
          "height": 420
        }
      },
      "source": [
        "genre = pd.DataFrame(df_sales_top10['Genre'].value_counts()).reset_index()\n",
        "genre"
      ],
      "execution_count": 17,
      "outputs": [
        {
          "output_type": "execute_result",
          "data": {
            "text/html": [
              "<div>\n",
              "<style scoped>\n",
              "    .dataframe tbody tr th:only-of-type {\n",
              "        vertical-align: middle;\n",
              "    }\n",
              "\n",
              "    .dataframe tbody tr th {\n",
              "        vertical-align: top;\n",
              "    }\n",
              "\n",
              "    .dataframe thead th {\n",
              "        text-align: right;\n",
              "    }\n",
              "</style>\n",
              "<table border=\"1\" class=\"dataframe\">\n",
              "  <thead>\n",
              "    <tr style=\"text-align: right;\">\n",
              "      <th></th>\n",
              "      <th>index</th>\n",
              "      <th>Genre</th>\n",
              "    </tr>\n",
              "  </thead>\n",
              "  <tbody>\n",
              "    <tr>\n",
              "      <th>0</th>\n",
              "      <td>Action</td>\n",
              "      <td>329</td>\n",
              "    </tr>\n",
              "    <tr>\n",
              "      <th>1</th>\n",
              "      <td>Sports</td>\n",
              "      <td>232</td>\n",
              "    </tr>\n",
              "    <tr>\n",
              "      <th>2</th>\n",
              "      <td>Shooter</td>\n",
              "      <td>203</td>\n",
              "    </tr>\n",
              "    <tr>\n",
              "      <th>3</th>\n",
              "      <td>Role-Playing</td>\n",
              "      <td>171</td>\n",
              "    </tr>\n",
              "    <tr>\n",
              "      <th>4</th>\n",
              "      <td>Platform</td>\n",
              "      <td>155</td>\n",
              "    </tr>\n",
              "    <tr>\n",
              "      <th>5</th>\n",
              "      <td>Misc</td>\n",
              "      <td>134</td>\n",
              "    </tr>\n",
              "    <tr>\n",
              "      <th>6</th>\n",
              "      <td>Racing</td>\n",
              "      <td>134</td>\n",
              "    </tr>\n",
              "    <tr>\n",
              "      <th>7</th>\n",
              "      <td>Fighting</td>\n",
              "      <td>98</td>\n",
              "    </tr>\n",
              "    <tr>\n",
              "      <th>8</th>\n",
              "      <td>Simulation</td>\n",
              "      <td>70</td>\n",
              "    </tr>\n",
              "    <tr>\n",
              "      <th>9</th>\n",
              "      <td>Puzzle</td>\n",
              "      <td>44</td>\n",
              "    </tr>\n",
              "    <tr>\n",
              "      <th>10</th>\n",
              "      <td>Adventure</td>\n",
              "      <td>30</td>\n",
              "    </tr>\n",
              "    <tr>\n",
              "      <th>11</th>\n",
              "      <td>Strategy</td>\n",
              "      <td>24</td>\n",
              "    </tr>\n",
              "  </tbody>\n",
              "</table>\n",
              "</div>"
            ],
            "text/plain": [
              "           index  Genre\n",
              "0         Action    329\n",
              "1         Sports    232\n",
              "2        Shooter    203\n",
              "3   Role-Playing    171\n",
              "4       Platform    155\n",
              "5           Misc    134\n",
              "6         Racing    134\n",
              "7       Fighting     98\n",
              "8     Simulation     70\n",
              "9         Puzzle     44\n",
              "10     Adventure     30\n",
              "11      Strategy     24"
            ]
          },
          "metadata": {},
          "execution_count": 17
        }
      ]
    },
    {
      "cell_type": "code",
      "metadata": {
        "colab": {
          "base_uri": "https://localhost:8080/",
          "height": 348
        },
        "id": "UuT7nGLvoiQe",
        "outputId": "f15c91b9-da3c-466f-9d08-6f91c6b9bb91"
      },
      "source": [
        "#출고량 상위 10% 게임의 장르\n",
        "sns.barplot(data=genre,x=\"index\",y=\"Genre\",palette='gnuplot_r')\n",
        "plt.xticks(rotation =90)\n",
        "plt.xlabel('Genre')\n",
        "plt.ylabel('Count')"
      ],
      "execution_count": 18,
      "outputs": [
        {
          "output_type": "execute_result",
          "data": {
            "text/plain": [
              "Text(0, 0.5, 'Count')"
            ]
          },
          "metadata": {},
          "execution_count": 18
        },
        {
          "output_type": "display_data",
          "data": {
            "image/png": "[encoded data removed]",
            "text/plain": [
              "<Figure size 432x288 with 1 Axes>"
            ]
          },
          "metadata": {
            "needs_background": "light"
          }
        }
      ]
    },
    {
      "cell_type": "code",
      "metadata": {
        "id": "8PaP9lQ8oz3G"
      },
      "source": [
        "#출고량 상위 10%의 게임 platform\n",
        "platform = pd.DataFrame(df_sales_top10['Platform'].value_counts()).reset_index()\n",
        "platform"
      ],
      "execution_count": null,
      "outputs": []
    },
    {
      "cell_type": "code",
      "metadata": {
        "colab": {
          "base_uri": "https://localhost:8080/",
          "height": 314
        },
        "id": "-EbhYr-bpb-u",
        "outputId": "29d046d6-269b-4a6a-f6df-2f9911b62d6b"
      },
      "source": [
        "sns.barplot(data=platform,x=\"index\",y=\"Platform\",palette='gnuplot_r')\n",
        "plt.xticks(rotation =90)\n",
        "plt.xlabel('Platform')\n",
        "plt.ylabel('Count')"
      ],
      "execution_count": 20,
      "outputs": [
        {
          "output_type": "execute_result",
          "data": {
            "text/plain": [
              "Text(0, 0.5, 'Count')"
            ]
          },
          "metadata": {},
          "execution_count": 20
        },
        {
          "output_type": "display_data",
          "data": {
            "image/png": "[encoded data removed]",
            "text/plain": [
              "<Figure size 432x288 with 1 Axes>"
            ]
          },
          "metadata": {
            "needs_background": "light"
          }
        }
      ]
    },
    {
      "cell_type": "markdown",
      "metadata": {
        "id": "fVeyUqe1pA91"
      },
      "source": [
        "# 최근 경향 파악하기\n",
        "(5년간의 경향)\n"
      ]
    },
    {
      "cell_type": "code",
      "metadata": {
        "colab": {
          "base_uri": "https://localhost:8080/",
          "height": 418
        },
        "id": "QdlqlEJeqFsP",
        "outputId": "a5c86f50-b4e5-4d0a-9fa2-f1ee72a2bb84"
      },
      "source": [
        "df_sales_new = df.sort_values('Year',ascending=False).reset_index(drop=True)\n",
        "df_sales_new = df_sales_new[:956]\n",
        "df_sales_new"
      ],
      "execution_count": 21,
      "outputs": [
        {
          "output_type": "execute_result",
          "data": {
            "text/html": [
              "<div>\n",
              "<style scoped>\n",
              "    .dataframe tbody tr th:only-of-type {\n",
              "        vertical-align: middle;\n",
              "    }\n",
              "\n",
              "    .dataframe tbody tr th {\n",
              "        vertical-align: top;\n",
              "    }\n",
              "\n",
              "    .dataframe thead th {\n",
              "        text-align: right;\n",
              "    }\n",
              "</style>\n",
              "<table border=\"1\" class=\"dataframe\">\n",
              "  <thead>\n",
              "    <tr style=\"text-align: right;\">\n",
              "      <th></th>\n",
              "      <th>Name</th>\n",
              "      <th>Platform</th>\n",
              "      <th>Year</th>\n",
              "      <th>Genre</th>\n",
              "      <th>Publisher</th>\n",
              "      <th>NA_Sales</th>\n",
              "      <th>EU_Sales</th>\n",
              "      <th>JP_Sales</th>\n",
              "      <th>Other_Sales</th>\n",
              "      <th>total_sales</th>\n",
              "    </tr>\n",
              "  </thead>\n",
              "  <tbody>\n",
              "    <tr>\n",
              "      <th>0</th>\n",
              "      <td>Imagine: Makeup Artist</td>\n",
              "      <td>DS</td>\n",
              "      <td>2020</td>\n",
              "      <td>Simulation</td>\n",
              "      <td>Ubisoft</td>\n",
              "      <td>270</td>\n",
              "      <td>0</td>\n",
              "      <td>0</td>\n",
              "      <td>20</td>\n",
              "      <td>290</td>\n",
              "    </tr>\n",
              "    <tr>\n",
              "      <th>1</th>\n",
              "      <td>Phantasy Star Online 2 Episode 4: Deluxe Package</td>\n",
              "      <td>PS4</td>\n",
              "      <td>2017</td>\n",
              "      <td>Role-Playing</td>\n",
              "      <td>Sega</td>\n",
              "      <td>0</td>\n",
              "      <td>0</td>\n",
              "      <td>30</td>\n",
              "      <td>0</td>\n",
              "      <td>30</td>\n",
              "    </tr>\n",
              "    <tr>\n",
              "      <th>2</th>\n",
              "      <td>Brothers Conflict: Precious Baby</td>\n",
              "      <td>PSV</td>\n",
              "      <td>2017</td>\n",
              "      <td>Action</td>\n",
              "      <td>Idea Factory</td>\n",
              "      <td>0</td>\n",
              "      <td>0</td>\n",
              "      <td>10</td>\n",
              "      <td>0</td>\n",
              "      <td>10</td>\n",
              "    </tr>\n",
              "    <tr>\n",
              "      <th>3</th>\n",
              "      <td>Phantasy Star Online 2 Episode 4: Deluxe Package</td>\n",
              "      <td>PSV</td>\n",
              "      <td>2017</td>\n",
              "      <td>Role-Playing</td>\n",
              "      <td>Sega</td>\n",
              "      <td>0</td>\n",
              "      <td>0</td>\n",
              "      <td>10</td>\n",
              "      <td>0</td>\n",
              "      <td>10</td>\n",
              "    </tr>\n",
              "    <tr>\n",
              "      <th>4</th>\n",
              "      <td>Hatsune Miku: Project Diva X</td>\n",
              "      <td>PS4</td>\n",
              "      <td>2016</td>\n",
              "      <td>Misc</td>\n",
              "      <td>Sega</td>\n",
              "      <td>10</td>\n",
              "      <td>0</td>\n",
              "      <td>20</td>\n",
              "      <td>0</td>\n",
              "      <td>30</td>\n",
              "    </tr>\n",
              "    <tr>\n",
              "      <th>...</th>\n",
              "      <td>...</td>\n",
              "      <td>...</td>\n",
              "      <td>...</td>\n",
              "      <td>...</td>\n",
              "      <td>...</td>\n",
              "      <td>...</td>\n",
              "      <td>...</td>\n",
              "      <td>...</td>\n",
              "      <td>...</td>\n",
              "      <td>...</td>\n",
              "    </tr>\n",
              "    <tr>\n",
              "      <th>951</th>\n",
              "      <td>Horse Life 4: My Horse, My Friend, My Champion</td>\n",
              "      <td>3DS</td>\n",
              "      <td>2015</td>\n",
              "      <td>Action</td>\n",
              "      <td>Unknown</td>\n",
              "      <td>0</td>\n",
              "      <td>10</td>\n",
              "      <td>0</td>\n",
              "      <td>0</td>\n",
              "      <td>10</td>\n",
              "    </tr>\n",
              "    <tr>\n",
              "      <th>952</th>\n",
              "      <td>Dragon Ball: XenoVerse</td>\n",
              "      <td>PS4</td>\n",
              "      <td>2015</td>\n",
              "      <td>Fighting</td>\n",
              "      <td>Namco Bandai Games</td>\n",
              "      <td>300</td>\n",
              "      <td>480</td>\n",
              "      <td>120</td>\n",
              "      <td>150</td>\n",
              "      <td>1050</td>\n",
              "    </tr>\n",
              "    <tr>\n",
              "      <th>953</th>\n",
              "      <td>Thomas and Friends: Steaming around Sodor</td>\n",
              "      <td>3DS</td>\n",
              "      <td>2015</td>\n",
              "      <td>Action</td>\n",
              "      <td>Avanquest Software</td>\n",
              "      <td>0</td>\n",
              "      <td>20</td>\n",
              "      <td>0</td>\n",
              "      <td>0</td>\n",
              "      <td>20</td>\n",
              "    </tr>\n",
              "    <tr>\n",
              "      <th>954</th>\n",
              "      <td>Rugby League Team Manager 2015</td>\n",
              "      <td>PC</td>\n",
              "      <td>2015</td>\n",
              "      <td>Action</td>\n",
              "      <td>Alternative Software</td>\n",
              "      <td>0</td>\n",
              "      <td>20</td>\n",
              "      <td>0</td>\n",
              "      <td>0</td>\n",
              "      <td>20</td>\n",
              "    </tr>\n",
              "    <tr>\n",
              "      <th>955</th>\n",
              "      <td>Ultra Street Fighter IV</td>\n",
              "      <td>PS4</td>\n",
              "      <td>2015</td>\n",
              "      <td>Fighting</td>\n",
              "      <td>Capcom</td>\n",
              "      <td>0</td>\n",
              "      <td>80</td>\n",
              "      <td>0</td>\n",
              "      <td>10</td>\n",
              "      <td>90</td>\n",
              "    </tr>\n",
              "  </tbody>\n",
              "</table>\n",
              "<p>956 rows × 10 columns</p>\n",
              "</div>"
            ],
            "text/plain": [
              "                                                 Name  ... total_sales\n",
              "0                              Imagine: Makeup Artist  ...         290\n",
              "1    Phantasy Star Online 2 Episode 4: Deluxe Package  ...          30\n",
              "2                    Brothers Conflict: Precious Baby  ...          10\n",
              "3    Phantasy Star Online 2 Episode 4: Deluxe Package  ...          10\n",
              "4                        Hatsune Miku: Project Diva X  ...          30\n",
              "..                                                ...  ...         ...\n",
              "951    Horse Life 4: My Horse, My Friend, My Champion  ...          10\n",
              "952                            Dragon Ball: XenoVerse  ...        1050\n",
              "953         Thomas and Friends: Steaming around Sodor  ...          20\n",
              "954                    Rugby League Team Manager 2015  ...          20\n",
              "955                           Ultra Street Fighter IV  ...          90\n",
              "\n",
              "[956 rows x 10 columns]"
            ]
          },
          "metadata": {},
          "execution_count": 21
        }
      ]
    },
    {
      "cell_type": "code",
      "metadata": {
        "colab": {
          "base_uri": "https://localhost:8080/",
          "height": 418
        },
        "id": "Z4tlTEpsq_mf",
        "outputId": "7af08660-fb3c-47e8-a28d-9712d1d4f2f3"
      },
      "source": [
        "df_sales_new = df_sales_new.sort_values('total_sales',ascending=False)\n",
        "df_sales_new.reset_index(inplace=True,drop=True)\n",
        "df_sales_new"
      ],
      "execution_count": 22,
      "outputs": [
        {
          "output_type": "execute_result",
          "data": {
            "text/html": [
              "<div>\n",
              "<style scoped>\n",
              "    .dataframe tbody tr th:only-of-type {\n",
              "        vertical-align: middle;\n",
              "    }\n",
              "\n",
              "    .dataframe tbody tr th {\n",
              "        vertical-align: top;\n",
              "    }\n",
              "\n",
              "    .dataframe thead th {\n",
              "        text-align: right;\n",
              "    }\n",
              "</style>\n",
              "<table border=\"1\" class=\"dataframe\">\n",
              "  <thead>\n",
              "    <tr style=\"text-align: right;\">\n",
              "      <th></th>\n",
              "      <th>Name</th>\n",
              "      <th>Platform</th>\n",
              "      <th>Year</th>\n",
              "      <th>Genre</th>\n",
              "      <th>Publisher</th>\n",
              "      <th>NA_Sales</th>\n",
              "      <th>EU_Sales</th>\n",
              "      <th>JP_Sales</th>\n",
              "      <th>Other_Sales</th>\n",
              "      <th>total_sales</th>\n",
              "    </tr>\n",
              "  </thead>\n",
              "  <tbody>\n",
              "    <tr>\n",
              "      <th>0</th>\n",
              "      <td>Call of Duty: Black Ops 3</td>\n",
              "      <td>PS4</td>\n",
              "      <td>2015</td>\n",
              "      <td>Shooter</td>\n",
              "      <td>Activision</td>\n",
              "      <td>5770</td>\n",
              "      <td>5810</td>\n",
              "      <td>350</td>\n",
              "      <td>2310</td>\n",
              "      <td>14240</td>\n",
              "    </tr>\n",
              "    <tr>\n",
              "      <th>1</th>\n",
              "      <td>FIFA 16</td>\n",
              "      <td>PS4</td>\n",
              "      <td>2015</td>\n",
              "      <td>Sports</td>\n",
              "      <td>Electronic Arts</td>\n",
              "      <td>1110</td>\n",
              "      <td>6060</td>\n",
              "      <td>60</td>\n",
              "      <td>1260</td>\n",
              "      <td>8490</td>\n",
              "    </tr>\n",
              "    <tr>\n",
              "      <th>2</th>\n",
              "      <td>Star Wars Battlefront (2015)</td>\n",
              "      <td>PS4</td>\n",
              "      <td>2015</td>\n",
              "      <td>Shooter</td>\n",
              "      <td>Electronic Arts</td>\n",
              "      <td>2930</td>\n",
              "      <td>3290</td>\n",
              "      <td>220</td>\n",
              "      <td>1230</td>\n",
              "      <td>7670</td>\n",
              "    </tr>\n",
              "    <tr>\n",
              "      <th>3</th>\n",
              "      <td>Call of Duty: Black Ops 3</td>\n",
              "      <td>XOne</td>\n",
              "      <td>2015</td>\n",
              "      <td>Shooter</td>\n",
              "      <td>Activision</td>\n",
              "      <td>4520</td>\n",
              "      <td>2090</td>\n",
              "      <td>10</td>\n",
              "      <td>670</td>\n",
              "      <td>7290</td>\n",
              "    </tr>\n",
              "    <tr>\n",
              "      <th>4</th>\n",
              "      <td>Fallout 4</td>\n",
              "      <td>PS4</td>\n",
              "      <td>2015</td>\n",
              "      <td>Role-Playing</td>\n",
              "      <td>Bethesda Softworks</td>\n",
              "      <td>2470</td>\n",
              "      <td>3150</td>\n",
              "      <td>240</td>\n",
              "      <td>1100</td>\n",
              "      <td>6960</td>\n",
              "    </tr>\n",
              "    <tr>\n",
              "      <th>...</th>\n",
              "      <td>...</td>\n",
              "      <td>...</td>\n",
              "      <td>...</td>\n",
              "      <td>...</td>\n",
              "      <td>...</td>\n",
              "      <td>...</td>\n",
              "      <td>...</td>\n",
              "      <td>...</td>\n",
              "      <td>...</td>\n",
              "      <td>...</td>\n",
              "    </tr>\n",
              "    <tr>\n",
              "      <th>951</th>\n",
              "      <td>Shitsuji ga Aruji o Erabu Toki</td>\n",
              "      <td>PSV</td>\n",
              "      <td>2016</td>\n",
              "      <td>Adventure</td>\n",
              "      <td>Unknown</td>\n",
              "      <td>0</td>\n",
              "      <td>0</td>\n",
              "      <td>10</td>\n",
              "      <td>0</td>\n",
              "      <td>10</td>\n",
              "    </tr>\n",
              "    <tr>\n",
              "      <th>952</th>\n",
              "      <td>Rugby League Live 3</td>\n",
              "      <td>XOne</td>\n",
              "      <td>2015</td>\n",
              "      <td>Action</td>\n",
              "      <td>Tru Blu Entertainment</td>\n",
              "      <td>0</td>\n",
              "      <td>10</td>\n",
              "      <td>0</td>\n",
              "      <td>0</td>\n",
              "      <td>10</td>\n",
              "    </tr>\n",
              "    <tr>\n",
              "      <th>953</th>\n",
              "      <td>MotoGP 15</td>\n",
              "      <td>X360</td>\n",
              "      <td>2015</td>\n",
              "      <td>Racing</td>\n",
              "      <td>Milestone S.r.l.</td>\n",
              "      <td>0</td>\n",
              "      <td>10</td>\n",
              "      <td>0</td>\n",
              "      <td>0</td>\n",
              "      <td>10</td>\n",
              "    </tr>\n",
              "    <tr>\n",
              "      <th>954</th>\n",
              "      <td>Teslagrad</td>\n",
              "      <td>PSV</td>\n",
              "      <td>2015</td>\n",
              "      <td>Platform</td>\n",
              "      <td>Rain Games</td>\n",
              "      <td>0</td>\n",
              "      <td>10</td>\n",
              "      <td>0</td>\n",
              "      <td>0</td>\n",
              "      <td>10</td>\n",
              "    </tr>\n",
              "    <tr>\n",
              "      <th>955</th>\n",
              "      <td>Resident Evil 5 HD</td>\n",
              "      <td>PS4</td>\n",
              "      <td>2016</td>\n",
              "      <td>Action</td>\n",
              "      <td>Capcom</td>\n",
              "      <td>10</td>\n",
              "      <td>0</td>\n",
              "      <td>0</td>\n",
              "      <td>0</td>\n",
              "      <td>10</td>\n",
              "    </tr>\n",
              "  </tbody>\n",
              "</table>\n",
              "<p>956 rows × 10 columns</p>\n",
              "</div>"
            ],
            "text/plain": [
              "                               Name Platform  ...  Other_Sales total_sales\n",
              "0         Call of Duty: Black Ops 3      PS4  ...         2310       14240\n",
              "1                           FIFA 16      PS4  ...         1260        8490\n",
              "2      Star Wars Battlefront (2015)      PS4  ...         1230        7670\n",
              "3         Call of Duty: Black Ops 3     XOne  ...          670        7290\n",
              "4                         Fallout 4      PS4  ...         1100        6960\n",
              "..                              ...      ...  ...          ...         ...\n",
              "951  Shitsuji ga Aruji o Erabu Toki      PSV  ...            0          10\n",
              "952             Rugby League Live 3     XOne  ...            0          10\n",
              "953                       MotoGP 15     X360  ...            0          10\n",
              "954                       Teslagrad      PSV  ...            0          10\n",
              "955              Resident Evil 5 HD      PS4  ...            0          10\n",
              "\n",
              "[956 rows x 10 columns]"
            ]
          },
          "metadata": {},
          "execution_count": 22
        }
      ]
    },
    {
      "cell_type": "code",
      "metadata": {
        "id": "8dPWl24_rG-f",
        "outputId": "47bf3552-3a99-434d-8f69-baadcb46762c",
        "colab": {
          "base_uri": "https://localhost:8080/",
          "height": 420
        }
      },
      "source": [
        "genre_s = pd.DataFrame(df_sales_new['Genre'].value_counts()).reset_index()\n",
        "genre_s"
      ],
      "execution_count": 23,
      "outputs": [
        {
          "output_type": "execute_result",
          "data": {
            "text/html": [
              "<div>\n",
              "<style scoped>\n",
              "    .dataframe tbody tr th:only-of-type {\n",
              "        vertical-align: middle;\n",
              "    }\n",
              "\n",
              "    .dataframe tbody tr th {\n",
              "        vertical-align: top;\n",
              "    }\n",
              "\n",
              "    .dataframe thead th {\n",
              "        text-align: right;\n",
              "    }\n",
              "</style>\n",
              "<table border=\"1\" class=\"dataframe\">\n",
              "  <thead>\n",
              "    <tr style=\"text-align: right;\">\n",
              "      <th></th>\n",
              "      <th>index</th>\n",
              "      <th>Genre</th>\n",
              "    </tr>\n",
              "  </thead>\n",
              "  <tbody>\n",
              "    <tr>\n",
              "      <th>0</th>\n",
              "      <td>Action</td>\n",
              "      <td>372</td>\n",
              "    </tr>\n",
              "    <tr>\n",
              "      <th>1</th>\n",
              "      <td>Role-Playing</td>\n",
              "      <td>120</td>\n",
              "    </tr>\n",
              "    <tr>\n",
              "      <th>2</th>\n",
              "      <td>Sports</td>\n",
              "      <td>100</td>\n",
              "    </tr>\n",
              "    <tr>\n",
              "      <th>3</th>\n",
              "      <td>Adventure</td>\n",
              "      <td>86</td>\n",
              "    </tr>\n",
              "    <tr>\n",
              "      <th>4</th>\n",
              "      <td>Shooter</td>\n",
              "      <td>65</td>\n",
              "    </tr>\n",
              "    <tr>\n",
              "      <th>5</th>\n",
              "      <td>Misc</td>\n",
              "      <td>57</td>\n",
              "    </tr>\n",
              "    <tr>\n",
              "      <th>6</th>\n",
              "      <td>Racing</td>\n",
              "      <td>39</td>\n",
              "    </tr>\n",
              "    <tr>\n",
              "      <th>7</th>\n",
              "      <td>Fighting</td>\n",
              "      <td>35</td>\n",
              "    </tr>\n",
              "    <tr>\n",
              "      <th>8</th>\n",
              "      <td>Strategy</td>\n",
              "      <td>27</td>\n",
              "    </tr>\n",
              "    <tr>\n",
              "      <th>9</th>\n",
              "      <td>Simulation</td>\n",
              "      <td>25</td>\n",
              "    </tr>\n",
              "    <tr>\n",
              "      <th>10</th>\n",
              "      <td>Platform</td>\n",
              "      <td>24</td>\n",
              "    </tr>\n",
              "    <tr>\n",
              "      <th>11</th>\n",
              "      <td>Puzzle</td>\n",
              "      <td>6</td>\n",
              "    </tr>\n",
              "  </tbody>\n",
              "</table>\n",
              "</div>"
            ],
            "text/plain": [
              "           index  Genre\n",
              "0         Action    372\n",
              "1   Role-Playing    120\n",
              "2         Sports    100\n",
              "3      Adventure     86\n",
              "4        Shooter     65\n",
              "5           Misc     57\n",
              "6         Racing     39\n",
              "7       Fighting     35\n",
              "8       Strategy     27\n",
              "9     Simulation     25\n",
              "10      Platform     24\n",
              "11        Puzzle      6"
            ]
          },
          "metadata": {},
          "execution_count": 23
        }
      ]
    },
    {
      "cell_type": "code",
      "metadata": {
        "colab": {
          "base_uri": "https://localhost:8080/",
          "height": 348
        },
        "id": "IAQOQOf0QI1S",
        "outputId": "a8d2e053-0ce4-4d0a-efdb-cd23f33e76d2"
      },
      "source": [
        "#최근 5년간 출시된 게임의 장르\n",
        "sns.barplot(data=genre_s,x=\"index\",y=\"Genre\",palette='gnuplot_r')\n",
        "plt.xticks(rotation =90)\n",
        "plt.xlabel('Genre')\n",
        "plt.ylabel('Count')"
      ],
      "execution_count": 24,
      "outputs": [
        {
          "output_type": "execute_result",
          "data": {
            "text/plain": [
              "Text(0, 0.5, 'Count')"
            ]
          },
          "metadata": {},
          "execution_count": 24
        },
        {
          "output_type": "display_data",
          "data": {
            "image/png": "[encoded data removed]",
            "text/plain": [
              "<Figure size 432x288 with 1 Axes>"
            ]
          },
          "metadata": {
            "needs_background": "light"
          }
        }
      ]
    },
    {
      "cell_type": "code",
      "metadata": {
        "id": "ky_2R6xAQWu5",
        "outputId": "008cd84a-a4a6-47e7-af04-39a616c778eb",
        "colab": {
          "base_uri": "https://localhost:8080/",
          "height": 388
        }
      },
      "source": [
        "paltform_s = pd.DataFrame(df_sales_new['Platform'].value_counts()).reset_index()\n",
        "paltform_s"
      ],
      "execution_count": 25,
      "outputs": [
        {
          "output_type": "execute_result",
          "data": {
            "text/html": [
              "<div>\n",
              "<style scoped>\n",
              "    .dataframe tbody tr th:only-of-type {\n",
              "        vertical-align: middle;\n",
              "    }\n",
              "\n",
              "    .dataframe tbody tr th {\n",
              "        vertical-align: top;\n",
              "    }\n",
              "\n",
              "    .dataframe thead th {\n",
              "        text-align: right;\n",
              "    }\n",
              "</style>\n",
              "<table border=\"1\" class=\"dataframe\">\n",
              "  <thead>\n",
              "    <tr style=\"text-align: right;\">\n",
              "      <th></th>\n",
              "      <th>index</th>\n",
              "      <th>Platform</th>\n",
              "    </tr>\n",
              "  </thead>\n",
              "  <tbody>\n",
              "    <tr>\n",
              "      <th>0</th>\n",
              "      <td>PS4</td>\n",
              "      <td>244</td>\n",
              "    </tr>\n",
              "    <tr>\n",
              "      <th>1</th>\n",
              "      <td>PSV</td>\n",
              "      <td>173</td>\n",
              "    </tr>\n",
              "    <tr>\n",
              "      <th>2</th>\n",
              "      <td>XOne</td>\n",
              "      <td>131</td>\n",
              "    </tr>\n",
              "    <tr>\n",
              "      <th>3</th>\n",
              "      <td>3DS</td>\n",
              "      <td>121</td>\n",
              "    </tr>\n",
              "    <tr>\n",
              "      <th>4</th>\n",
              "      <td>PS3</td>\n",
              "      <td>105</td>\n",
              "    </tr>\n",
              "    <tr>\n",
              "      <th>5</th>\n",
              "      <td>PC</td>\n",
              "      <td>88</td>\n",
              "    </tr>\n",
              "    <tr>\n",
              "      <th>6</th>\n",
              "      <td>X360</td>\n",
              "      <td>48</td>\n",
              "    </tr>\n",
              "    <tr>\n",
              "      <th>7</th>\n",
              "      <td>WiiU</td>\n",
              "      <td>38</td>\n",
              "    </tr>\n",
              "    <tr>\n",
              "      <th>8</th>\n",
              "      <td>Wii</td>\n",
              "      <td>4</td>\n",
              "    </tr>\n",
              "    <tr>\n",
              "      <th>9</th>\n",
              "      <td>PSP</td>\n",
              "      <td>3</td>\n",
              "    </tr>\n",
              "    <tr>\n",
              "      <th>10</th>\n",
              "      <td>DS</td>\n",
              "      <td>1</td>\n",
              "    </tr>\n",
              "  </tbody>\n",
              "</table>\n",
              "</div>"
            ],
            "text/plain": [
              "   index  Platform\n",
              "0    PS4       244\n",
              "1    PSV       173\n",
              "2   XOne       131\n",
              "3    3DS       121\n",
              "4    PS3       105\n",
              "5     PC        88\n",
              "6   X360        48\n",
              "7   WiiU        38\n",
              "8    Wii         4\n",
              "9    PSP         3\n",
              "10    DS         1"
            ]
          },
          "metadata": {},
          "execution_count": 25
        }
      ]
    },
    {
      "cell_type": "code",
      "metadata": {
        "colab": {
          "base_uri": "https://localhost:8080/",
          "height": 314
        },
        "id": "mKIIIQ9eQeyb",
        "outputId": "c3e3a079-89b6-41cb-eee0-e9a8db004fba"
      },
      "source": [
        "#최근 5년간 출시된 게임의 플랫폼\n",
        "sns.barplot(data=paltform_s,x=\"index\",y=\"Platform\",palette='gnuplot_r')\n",
        "plt.xticks(rotation =90)\n",
        "plt.xlabel('Platform')\n",
        "plt.ylabel('Count')"
      ],
      "execution_count": 26,
      "outputs": [
        {
          "output_type": "execute_result",
          "data": {
            "text/plain": [
              "Text(0, 0.5, 'Count')"
            ]
          },
          "metadata": {},
          "execution_count": 26
        },
        {
          "output_type": "display_data",
          "data": {
            "image/png": "[encoded data removed]",
            "text/plain": [
              "<Figure size 432x288 with 1 Axes>"
            ]
          },
          "metadata": {
            "needs_background": "light"
          }
        }
      ]
    },
    {
      "cell_type": "code",
      "metadata": {
        "colab": {
          "base_uri": "https://localhost:8080/",
          "height": 418
        },
        "id": "yfppd2BBQ_TZ",
        "outputId": "54afae68-a698-4d16-b9f4-9d25e6288a86"
      },
      "source": [
        "#최근 5년간 출고량이 1M이상인 게임들\n",
        "mask = (df_sales_new['total_sales'] > 1000)\n",
        "df_sales_new_filter = df_sales_new.loc[mask, : ]\n",
        "df_sales_new_filter"
      ],
      "execution_count": 27,
      "outputs": [
        {
          "output_type": "execute_result",
          "data": {
            "text/html": [
              "<div>\n",
              "<style scoped>\n",
              "    .dataframe tbody tr th:only-of-type {\n",
              "        vertical-align: middle;\n",
              "    }\n",
              "\n",
              "    .dataframe tbody tr th {\n",
              "        vertical-align: top;\n",
              "    }\n",
              "\n",
              "    .dataframe thead th {\n",
              "        text-align: right;\n",
              "    }\n",
              "</style>\n",
              "<table border=\"1\" class=\"dataframe\">\n",
              "  <thead>\n",
              "    <tr style=\"text-align: right;\">\n",
              "      <th></th>\n",
              "      <th>Name</th>\n",
              "      <th>Platform</th>\n",
              "      <th>Year</th>\n",
              "      <th>Genre</th>\n",
              "      <th>Publisher</th>\n",
              "      <th>NA_Sales</th>\n",
              "      <th>EU_Sales</th>\n",
              "      <th>JP_Sales</th>\n",
              "      <th>Other_Sales</th>\n",
              "      <th>total_sales</th>\n",
              "    </tr>\n",
              "  </thead>\n",
              "  <tbody>\n",
              "    <tr>\n",
              "      <th>0</th>\n",
              "      <td>Call of Duty: Black Ops 3</td>\n",
              "      <td>PS4</td>\n",
              "      <td>2015</td>\n",
              "      <td>Shooter</td>\n",
              "      <td>Activision</td>\n",
              "      <td>5770</td>\n",
              "      <td>5810</td>\n",
              "      <td>350</td>\n",
              "      <td>2310</td>\n",
              "      <td>14240</td>\n",
              "    </tr>\n",
              "    <tr>\n",
              "      <th>1</th>\n",
              "      <td>FIFA 16</td>\n",
              "      <td>PS4</td>\n",
              "      <td>2015</td>\n",
              "      <td>Sports</td>\n",
              "      <td>Electronic Arts</td>\n",
              "      <td>1110</td>\n",
              "      <td>6060</td>\n",
              "      <td>60</td>\n",
              "      <td>1260</td>\n",
              "      <td>8490</td>\n",
              "    </tr>\n",
              "    <tr>\n",
              "      <th>2</th>\n",
              "      <td>Star Wars Battlefront (2015)</td>\n",
              "      <td>PS4</td>\n",
              "      <td>2015</td>\n",
              "      <td>Shooter</td>\n",
              "      <td>Electronic Arts</td>\n",
              "      <td>2930</td>\n",
              "      <td>3290</td>\n",
              "      <td>220</td>\n",
              "      <td>1230</td>\n",
              "      <td>7670</td>\n",
              "    </tr>\n",
              "    <tr>\n",
              "      <th>3</th>\n",
              "      <td>Call of Duty: Black Ops 3</td>\n",
              "      <td>XOne</td>\n",
              "      <td>2015</td>\n",
              "      <td>Shooter</td>\n",
              "      <td>Activision</td>\n",
              "      <td>4520</td>\n",
              "      <td>2090</td>\n",
              "      <td>10</td>\n",
              "      <td>670</td>\n",
              "      <td>7290</td>\n",
              "    </tr>\n",
              "    <tr>\n",
              "      <th>4</th>\n",
              "      <td>Fallout 4</td>\n",
              "      <td>PS4</td>\n",
              "      <td>2015</td>\n",
              "      <td>Role-Playing</td>\n",
              "      <td>Bethesda Softworks</td>\n",
              "      <td>2470</td>\n",
              "      <td>3150</td>\n",
              "      <td>240</td>\n",
              "      <td>1100</td>\n",
              "      <td>6960</td>\n",
              "    </tr>\n",
              "    <tr>\n",
              "      <th>...</th>\n",
              "      <td>...</td>\n",
              "      <td>...</td>\n",
              "      <td>...</td>\n",
              "      <td>...</td>\n",
              "      <td>...</td>\n",
              "      <td>...</td>\n",
              "      <td>...</td>\n",
              "      <td>...</td>\n",
              "      <td>...</td>\n",
              "      <td>...</td>\n",
              "    </tr>\n",
              "    <tr>\n",
              "      <th>70</th>\n",
              "      <td>The Legend of Zelda: Tri Force Heroes</td>\n",
              "      <td>3DS</td>\n",
              "      <td>2015</td>\n",
              "      <td>Action</td>\n",
              "      <td>Nintendo</td>\n",
              "      <td>520</td>\n",
              "      <td>330</td>\n",
              "      <td>170</td>\n",
              "      <td>80</td>\n",
              "      <td>1100</td>\n",
              "    </tr>\n",
              "    <tr>\n",
              "      <th>71</th>\n",
              "      <td>Grand Theft Auto V</td>\n",
              "      <td>PC</td>\n",
              "      <td>2015</td>\n",
              "      <td>Action</td>\n",
              "      <td>Take-Two Interactive</td>\n",
              "      <td>360</td>\n",
              "      <td>640</td>\n",
              "      <td>0</td>\n",
              "      <td>80</td>\n",
              "      <td>1080</td>\n",
              "    </tr>\n",
              "    <tr>\n",
              "      <th>72</th>\n",
              "      <td>Naruto Shippuden: Ultimate Ninja Storm 4</td>\n",
              "      <td>PS4</td>\n",
              "      <td>2016</td>\n",
              "      <td>Fighting</td>\n",
              "      <td>Namco Bandai Games</td>\n",
              "      <td>390</td>\n",
              "      <td>410</td>\n",
              "      <td>100</td>\n",
              "      <td>160</td>\n",
              "      <td>1060</td>\n",
              "    </tr>\n",
              "    <tr>\n",
              "      <th>73</th>\n",
              "      <td>Dragon Ball: XenoVerse</td>\n",
              "      <td>PS4</td>\n",
              "      <td>2015</td>\n",
              "      <td>Fighting</td>\n",
              "      <td>Namco Bandai Games</td>\n",
              "      <td>300</td>\n",
              "      <td>480</td>\n",
              "      <td>120</td>\n",
              "      <td>150</td>\n",
              "      <td>1050</td>\n",
              "    </tr>\n",
              "    <tr>\n",
              "      <th>74</th>\n",
              "      <td>Project CARS</td>\n",
              "      <td>PS4</td>\n",
              "      <td>2015</td>\n",
              "      <td>Racing</td>\n",
              "      <td>Slightly Mad Studios</td>\n",
              "      <td>170</td>\n",
              "      <td>690</td>\n",
              "      <td>20</td>\n",
              "      <td>150</td>\n",
              "      <td>1030</td>\n",
              "    </tr>\n",
              "  </tbody>\n",
              "</table>\n",
              "<p>75 rows × 10 columns</p>\n",
              "</div>"
            ],
            "text/plain": [
              "                                        Name Platform  ...  Other_Sales total_sales\n",
              "0                  Call of Duty: Black Ops 3      PS4  ...         2310       14240\n",
              "1                                    FIFA 16      PS4  ...         1260        8490\n",
              "2               Star Wars Battlefront (2015)      PS4  ...         1230        7670\n",
              "3                  Call of Duty: Black Ops 3     XOne  ...          670        7290\n",
              "4                                  Fallout 4      PS4  ...         1100        6960\n",
              "..                                       ...      ...  ...          ...         ...\n",
              "70     The Legend of Zelda: Tri Force Heroes      3DS  ...           80        1100\n",
              "71                        Grand Theft Auto V       PC  ...           80        1080\n",
              "72  Naruto Shippuden: Ultimate Ninja Storm 4      PS4  ...          160        1060\n",
              "73                    Dragon Ball: XenoVerse      PS4  ...          150        1050\n",
              "74                              Project CARS      PS4  ...          150        1030\n",
              "\n",
              "[75 rows x 10 columns]"
            ]
          },
          "metadata": {},
          "execution_count": 27
        }
      ]
    },
    {
      "cell_type": "markdown",
      "metadata": {
        "id": "FwysUsFsUD_r"
      },
      "source": [
        "## 데이터 정리하기\n",
        "- 닌텐도계열 : DS, Wii, GBA, 3DS, WiiU, GB, NES, N64\n",
        "- PS계열 : PSP, PS3, PS, PS4, PS2, PSV\n",
        "- XBOX계열 : XB, X360, XOne"
      ]
    },
    {
      "cell_type": "code",
      "metadata": {
        "colab": {
          "base_uri": "https://localhost:8080/"
        },
        "id": "aWghdhe-Wqs6",
        "outputId": "4b1cfe70-ab4f-4f41-95ca-02b9df1dea8f"
      },
      "source": [
        "df_sales_new_filter['Platform'].value_counts()"
      ],
      "execution_count": 28,
      "outputs": [
        {
          "output_type": "execute_result",
          "data": {
            "text/plain": [
              "PS4     37\n",
              "XOne    19\n",
              "3DS      8\n",
              "WiiU     4\n",
              "PS3      2\n",
              "PC       2\n",
              "X360     2\n",
              "Wii      1\n",
              "Name: Platform, dtype: int64"
            ]
          },
          "metadata": {},
          "execution_count": 28
        }
      ]
    },
    {
      "cell_type": "code",
      "metadata": {
        "colab": {
          "base_uri": "https://localhost:8080/"
        },
        "id": "3iwE6IxyXW7h",
        "outputId": "32720014-5c19-47a6-a3a4-20b3b34f761b"
      },
      "source": [
        "l = len(df_sales_new_filter['Platform'])\n",
        "df_sales_new_filter['Platform'][0].startswith('PS')"
      ],
      "execution_count": 32,
      "outputs": [
        {
          "output_type": "execute_result",
          "data": {
            "text/plain": [
              "True"
            ]
          },
          "metadata": {},
          "execution_count": 32
        }
      ]
    },
    {
      "cell_type": "code",
      "metadata": {
        "id": "l1fqIFBIUL-I"
      },
      "source": [
        "new_platform = []\n",
        "\n",
        "for i in range(l):\n",
        "  if df_sales_new_filter['Platform'][i].startswith('PS'):\n",
        "    new_platform.append('PS')\n",
        "  elif df_sales_new_filter['Platform'][i].startswith('X'):\n",
        "    new_platform.append('XBOX')\n",
        "  elif df_sales_new_filter['Platform'][i].startswith('PC'):\n",
        "    new_platform.append('PC')\n",
        "  else:\n",
        "    new_platform.append('Nintendo')\n",
        "new_platform"
      ],
      "execution_count": null,
      "outputs": []
    },
    {
      "cell_type": "code",
      "metadata": {
        "colab": {
          "base_uri": "https://localhost:8080/",
          "height": 654
        },
        "id": "LQd0RndTYDuC",
        "outputId": "87d3c20e-f544-448c-871d-509eb6e7a221"
      },
      "source": [
        "df_sales_new_filter['new_platform'] = new_platform\n",
        "df_sales_new_filter.head(15)"
      ],
      "execution_count": 289,
      "outputs": [
        {
          "output_type": "stream",
          "name": "stderr",
          "text": [
            "/usr/local/lib/python3.7/dist-packages/ipykernel_launcher.py:1: SettingWithCopyWarning:\n",
            "\n",
            "\n",
            "A value is trying to be set on a copy of a slice from a DataFrame.\n",
            "Try using .loc[row_indexer,col_indexer] = value instead\n",
            "\n",
            "See the caveats in the documentation: https://pandas.pydata.org/pandas-docs/stable/user_guide/indexing.html#returning-a-view-versus-a-copy\n",
            "\n"
          ]
        },
        {
          "output_type": "execute_result",
          "data": {
            "text/html": [
              "<div>\n",
              "<style scoped>\n",
              "    .dataframe tbody tr th:only-of-type {\n",
              "        vertical-align: middle;\n",
              "    }\n",
              "\n",
              "    .dataframe tbody tr th {\n",
              "        vertical-align: top;\n",
              "    }\n",
              "\n",
              "    .dataframe thead th {\n",
              "        text-align: right;\n",
              "    }\n",
              "</style>\n",
              "<table border=\"1\" class=\"dataframe\">\n",
              "  <thead>\n",
              "    <tr style=\"text-align: right;\">\n",
              "      <th></th>\n",
              "      <th>Name</th>\n",
              "      <th>Platform</th>\n",
              "      <th>Year</th>\n",
              "      <th>Genre</th>\n",
              "      <th>Publisher</th>\n",
              "      <th>NA_Sales</th>\n",
              "      <th>EU_Sales</th>\n",
              "      <th>JP_Sales</th>\n",
              "      <th>Other_Sales</th>\n",
              "      <th>total_sales</th>\n",
              "      <th>new_platform</th>\n",
              "    </tr>\n",
              "  </thead>\n",
              "  <tbody>\n",
              "    <tr>\n",
              "      <th>0</th>\n",
              "      <td>Call of Duty: Black Ops 3</td>\n",
              "      <td>PS4</td>\n",
              "      <td>2015</td>\n",
              "      <td>Shooter</td>\n",
              "      <td>Activision</td>\n",
              "      <td>5770</td>\n",
              "      <td>5810</td>\n",
              "      <td>350</td>\n",
              "      <td>2310</td>\n",
              "      <td>14240</td>\n",
              "      <td>PS</td>\n",
              "    </tr>\n",
              "    <tr>\n",
              "      <th>1</th>\n",
              "      <td>FIFA 16</td>\n",
              "      <td>PS4</td>\n",
              "      <td>2015</td>\n",
              "      <td>Sports</td>\n",
              "      <td>Electronic Arts</td>\n",
              "      <td>1110</td>\n",
              "      <td>6060</td>\n",
              "      <td>60</td>\n",
              "      <td>1260</td>\n",
              "      <td>8490</td>\n",
              "      <td>PS</td>\n",
              "    </tr>\n",
              "    <tr>\n",
              "      <th>2</th>\n",
              "      <td>Star Wars Battlefront (2015)</td>\n",
              "      <td>PS4</td>\n",
              "      <td>2015</td>\n",
              "      <td>Shooter</td>\n",
              "      <td>Electronic Arts</td>\n",
              "      <td>2930</td>\n",
              "      <td>3290</td>\n",
              "      <td>220</td>\n",
              "      <td>1230</td>\n",
              "      <td>7670</td>\n",
              "      <td>PS</td>\n",
              "    </tr>\n",
              "    <tr>\n",
              "      <th>3</th>\n",
              "      <td>Call of Duty: Black Ops 3</td>\n",
              "      <td>XOne</td>\n",
              "      <td>2015</td>\n",
              "      <td>Shooter</td>\n",
              "      <td>Activision</td>\n",
              "      <td>4520</td>\n",
              "      <td>2090</td>\n",
              "      <td>10</td>\n",
              "      <td>670</td>\n",
              "      <td>7290</td>\n",
              "      <td>XBOX</td>\n",
              "    </tr>\n",
              "    <tr>\n",
              "      <th>4</th>\n",
              "      <td>Fallout 4</td>\n",
              "      <td>PS4</td>\n",
              "      <td>2015</td>\n",
              "      <td>Role-Playing</td>\n",
              "      <td>Bethesda Softworks</td>\n",
              "      <td>2470</td>\n",
              "      <td>3150</td>\n",
              "      <td>240</td>\n",
              "      <td>1100</td>\n",
              "      <td>6960</td>\n",
              "      <td>PS</td>\n",
              "    </tr>\n",
              "    <tr>\n",
              "      <th>5</th>\n",
              "      <td>FIFA 17</td>\n",
              "      <td>PS4</td>\n",
              "      <td>2016</td>\n",
              "      <td>Sports</td>\n",
              "      <td>Electronic Arts</td>\n",
              "      <td>280</td>\n",
              "      <td>3750</td>\n",
              "      <td>60</td>\n",
              "      <td>690</td>\n",
              "      <td>4780</td>\n",
              "      <td>PS</td>\n",
              "    </tr>\n",
              "    <tr>\n",
              "      <th>6</th>\n",
              "      <td>Splatoon</td>\n",
              "      <td>WiiU</td>\n",
              "      <td>2015</td>\n",
              "      <td>Shooter</td>\n",
              "      <td>Nintendo</td>\n",
              "      <td>1550</td>\n",
              "      <td>1150</td>\n",
              "      <td>1440</td>\n",
              "      <td>430</td>\n",
              "      <td>4570</td>\n",
              "      <td>Nintendo</td>\n",
              "    </tr>\n",
              "    <tr>\n",
              "      <th>7</th>\n",
              "      <td>Uncharted: The Nathan Drake Collection</td>\n",
              "      <td>PS4</td>\n",
              "      <td>2015</td>\n",
              "      <td>Action</td>\n",
              "      <td>Sony Computer Entertainment</td>\n",
              "      <td>1960</td>\n",
              "      <td>1690</td>\n",
              "      <td>80</td>\n",
              "      <td>740</td>\n",
              "      <td>4470</td>\n",
              "      <td>PS</td>\n",
              "    </tr>\n",
              "    <tr>\n",
              "      <th>8</th>\n",
              "      <td>Halo 5: Guardians</td>\n",
              "      <td>XOne</td>\n",
              "      <td>2015</td>\n",
              "      <td>Shooter</td>\n",
              "      <td>Microsoft Game Studios</td>\n",
              "      <td>2640</td>\n",
              "      <td>1200</td>\n",
              "      <td>30</td>\n",
              "      <td>390</td>\n",
              "      <td>4260</td>\n",
              "      <td>XBOX</td>\n",
              "    </tr>\n",
              "    <tr>\n",
              "      <th>9</th>\n",
              "      <td>Uncharted 4: A Thief's End</td>\n",
              "      <td>PS4</td>\n",
              "      <td>2016</td>\n",
              "      <td>Shooter</td>\n",
              "      <td>Sony Computer Entertainment</td>\n",
              "      <td>1300</td>\n",
              "      <td>2070</td>\n",
              "      <td>180</td>\n",
              "      <td>650</td>\n",
              "      <td>4200</td>\n",
              "      <td>PS</td>\n",
              "    </tr>\n",
              "    <tr>\n",
              "      <th>10</th>\n",
              "      <td>Fallout 4</td>\n",
              "      <td>XOne</td>\n",
              "      <td>2015</td>\n",
              "      <td>Role-Playing</td>\n",
              "      <td>Bethesda Softworks</td>\n",
              "      <td>2450</td>\n",
              "      <td>1260</td>\n",
              "      <td>10</td>\n",
              "      <td>370</td>\n",
              "      <td>4090</td>\n",
              "      <td>XBOX</td>\n",
              "    </tr>\n",
              "    <tr>\n",
              "      <th>11</th>\n",
              "      <td>NBA 2K16</td>\n",
              "      <td>PS4</td>\n",
              "      <td>2015</td>\n",
              "      <td>Sports</td>\n",
              "      <td>Take-Two Interactive</td>\n",
              "      <td>2480</td>\n",
              "      <td>650</td>\n",
              "      <td>30</td>\n",
              "      <td>690</td>\n",
              "      <td>3850</td>\n",
              "      <td>PS</td>\n",
              "    </tr>\n",
              "    <tr>\n",
              "      <th>12</th>\n",
              "      <td>Batman: Arkham Knight</td>\n",
              "      <td>PS4</td>\n",
              "      <td>2015</td>\n",
              "      <td>Action</td>\n",
              "      <td>Warner Bros. Interactive Entertainment</td>\n",
              "      <td>1490</td>\n",
              "      <td>1580</td>\n",
              "      <td>100</td>\n",
              "      <td>610</td>\n",
              "      <td>3780</td>\n",
              "      <td>PS</td>\n",
              "    </tr>\n",
              "    <tr>\n",
              "      <th>13</th>\n",
              "      <td>The Witcher 3: Wild Hunt</td>\n",
              "      <td>PS4</td>\n",
              "      <td>2015</td>\n",
              "      <td>Role-Playing</td>\n",
              "      <td>Namco Bandai Games</td>\n",
              "      <td>960</td>\n",
              "      <td>2000</td>\n",
              "      <td>210</td>\n",
              "      <td>560</td>\n",
              "      <td>3730</td>\n",
              "      <td>PS</td>\n",
              "    </tr>\n",
              "    <tr>\n",
              "      <th>14</th>\n",
              "      <td>Tom Clancy's The Division</td>\n",
              "      <td>PS4</td>\n",
              "      <td>2016</td>\n",
              "      <td>Shooter</td>\n",
              "      <td>Ubisoft</td>\n",
              "      <td>1280</td>\n",
              "      <td>1610</td>\n",
              "      <td>150</td>\n",
              "      <td>570</td>\n",
              "      <td>3610</td>\n",
              "      <td>PS</td>\n",
              "    </tr>\n",
              "  </tbody>\n",
              "</table>\n",
              "</div>"
            ],
            "text/plain": [
              "                                      Name Platform  ...  total_sales new_platform\n",
              "0                Call of Duty: Black Ops 3      PS4  ...        14240           PS\n",
              "1                                  FIFA 16      PS4  ...         8490           PS\n",
              "2             Star Wars Battlefront (2015)      PS4  ...         7670           PS\n",
              "3                Call of Duty: Black Ops 3     XOne  ...         7290         XBOX\n",
              "4                                Fallout 4      PS4  ...         6960           PS\n",
              "5                                  FIFA 17      PS4  ...         4780           PS\n",
              "6                                 Splatoon     WiiU  ...         4570     Nintendo\n",
              "7   Uncharted: The Nathan Drake Collection      PS4  ...         4470           PS\n",
              "8                        Halo 5: Guardians     XOne  ...         4260         XBOX\n",
              "9               Uncharted 4: A Thief's End      PS4  ...         4200           PS\n",
              "10                               Fallout 4     XOne  ...         4090         XBOX\n",
              "11                                NBA 2K16      PS4  ...         3850           PS\n",
              "12                   Batman: Arkham Knight      PS4  ...         3780           PS\n",
              "13                The Witcher 3: Wild Hunt      PS4  ...         3730           PS\n",
              "14               Tom Clancy's The Division      PS4  ...         3610           PS\n",
              "\n",
              "[15 rows x 11 columns]"
            ]
          },
          "metadata": {},
          "execution_count": 289
        }
      ]
    },
    {
      "cell_type": "code",
      "metadata": {
        "id": "2SgHGe_gKdXw",
        "outputId": "7282e106-dddf-495c-ca49-aa96df8ce476",
        "colab": {
          "base_uri": "https://localhost:8080/",
          "height": 358
        }
      },
      "source": [
        "#전체 top 10\n",
        "df_top10 = df_sales_new_filter.sort_values(['total_sales'],ascending=False).head(15)\n",
        "df_top10 = df_top10[['Name','total_sales']]\n",
        "df_top10 = df_top10.groupby('Name').sum().head(10)\n",
        "df_top10 = df_top10.sort_values('total_sales', ascending=False).reset_index()\n",
        "df_top10"
      ],
      "execution_count": 156,
      "outputs": [
        {
          "output_type": "execute_result",
          "data": {
            "text/html": [
              "<div>\n",
              "<style scoped>\n",
              "    .dataframe tbody tr th:only-of-type {\n",
              "        vertical-align: middle;\n",
              "    }\n",
              "\n",
              "    .dataframe tbody tr th {\n",
              "        vertical-align: top;\n",
              "    }\n",
              "\n",
              "    .dataframe thead th {\n",
              "        text-align: right;\n",
              "    }\n",
              "</style>\n",
              "<table border=\"1\" class=\"dataframe\">\n",
              "  <thead>\n",
              "    <tr style=\"text-align: right;\">\n",
              "      <th></th>\n",
              "      <th>Name</th>\n",
              "      <th>total_sales</th>\n",
              "    </tr>\n",
              "  </thead>\n",
              "  <tbody>\n",
              "    <tr>\n",
              "      <th>0</th>\n",
              "      <td>Call of Duty: Black Ops 3</td>\n",
              "      <td>21530</td>\n",
              "    </tr>\n",
              "    <tr>\n",
              "      <th>1</th>\n",
              "      <td>Fallout 4</td>\n",
              "      <td>11050</td>\n",
              "    </tr>\n",
              "    <tr>\n",
              "      <th>2</th>\n",
              "      <td>FIFA 16</td>\n",
              "      <td>8490</td>\n",
              "    </tr>\n",
              "    <tr>\n",
              "      <th>3</th>\n",
              "      <td>Star Wars Battlefront (2015)</td>\n",
              "      <td>7670</td>\n",
              "    </tr>\n",
              "    <tr>\n",
              "      <th>4</th>\n",
              "      <td>FIFA 17</td>\n",
              "      <td>4780</td>\n",
              "    </tr>\n",
              "    <tr>\n",
              "      <th>5</th>\n",
              "      <td>Splatoon</td>\n",
              "      <td>4570</td>\n",
              "    </tr>\n",
              "    <tr>\n",
              "      <th>6</th>\n",
              "      <td>Halo 5: Guardians</td>\n",
              "      <td>4260</td>\n",
              "    </tr>\n",
              "    <tr>\n",
              "      <th>7</th>\n",
              "      <td>NBA 2K16</td>\n",
              "      <td>3850</td>\n",
              "    </tr>\n",
              "    <tr>\n",
              "      <th>8</th>\n",
              "      <td>Batman: Arkham Knight</td>\n",
              "      <td>3780</td>\n",
              "    </tr>\n",
              "    <tr>\n",
              "      <th>9</th>\n",
              "      <td>The Witcher 3: Wild Hunt</td>\n",
              "      <td>3730</td>\n",
              "    </tr>\n",
              "  </tbody>\n",
              "</table>\n",
              "</div>"
            ],
            "text/plain": [
              "                           Name  total_sales\n",
              "0     Call of Duty: Black Ops 3        21530\n",
              "1                     Fallout 4        11050\n",
              "2                       FIFA 16         8490\n",
              "3  Star Wars Battlefront (2015)         7670\n",
              "4                       FIFA 17         4780\n",
              "5                      Splatoon         4570\n",
              "6             Halo 5: Guardians         4260\n",
              "7                      NBA 2K16         3850\n",
              "8         Batman: Arkham Knight         3780\n",
              "9      The Witcher 3: Wild Hunt         3730"
            ]
          },
          "metadata": {},
          "execution_count": 156
        }
      ]
    },
    {
      "cell_type": "code",
      "metadata": {
        "id": "BiWLGT_RLv43",
        "outputId": "e113c6c8-4ef0-49e2-b8c1-ea55122dcd20",
        "colab": {
          "base_uri": "https://localhost:8080/",
          "height": 298
        }
      },
      "source": [
        "sns.barplot(data=df_top10,x=\"total_sales\",y=\"Name\",palette='gnuplot_r')\n",
        "# plt.xticks(rotation =90)\n",
        "plt.xlabel('total_sales')\n",
        "plt.ylabel('Name')"
      ],
      "execution_count": 157,
      "outputs": [
        {
          "output_type": "execute_result",
          "data": {
            "text/plain": [
              "Text(0, 0.5, 'Name')"
            ]
          },
          "metadata": {},
          "execution_count": 157
        },
        {
          "output_type": "display_data",
          "data": {
            "image/png": "[encoded data removed]",
            "text/plain": [
              "<Figure size 432x288 with 1 Axes>"
            ]
          },
          "metadata": {
            "needs_background": "light"
          }
        }
      ]
    },
    {
      "cell_type": "code",
      "metadata": {
        "colab": {
          "base_uri": "https://localhost:8080/",
          "height": 358
        },
        "id": "51ZEg1t_rLBj",
        "outputId": "abeda634-4887-49f6-d0fa-898fd3ee4a6c"
      },
      "source": [
        "#미국 top 10\n",
        "df_na_top10 = df_sales_new_filter.sort_values(['NA_Sales'],ascending=False).head(15)\n",
        "df_na_top10 = df_na_top10[['Name','NA_Sales']]\n",
        "df_na_top10 = df_na_top10.groupby('Name').sum().head(10)\n",
        "df_na_top10 = df_na_top10.sort_values('NA_Sales', ascending=False).reset_index()\n",
        "df_na_top10"
      ],
      "execution_count": 161,
      "outputs": [
        {
          "output_type": "execute_result",
          "data": {
            "text/html": [
              "<div>\n",
              "<style scoped>\n",
              "    .dataframe tbody tr th:only-of-type {\n",
              "        vertical-align: middle;\n",
              "    }\n",
              "\n",
              "    .dataframe tbody tr th {\n",
              "        vertical-align: top;\n",
              "    }\n",
              "\n",
              "    .dataframe thead th {\n",
              "        text-align: right;\n",
              "    }\n",
              "</style>\n",
              "<table border=\"1\" class=\"dataframe\">\n",
              "  <thead>\n",
              "    <tr style=\"text-align: right;\">\n",
              "      <th></th>\n",
              "      <th>Name</th>\n",
              "      <th>NA_Sales</th>\n",
              "    </tr>\n",
              "  </thead>\n",
              "  <tbody>\n",
              "    <tr>\n",
              "      <th>0</th>\n",
              "      <td>Call of Duty: Black Ops 3</td>\n",
              "      <td>10290</td>\n",
              "    </tr>\n",
              "    <tr>\n",
              "      <th>1</th>\n",
              "      <td>Fallout 4</td>\n",
              "      <td>4920</td>\n",
              "    </tr>\n",
              "    <tr>\n",
              "      <th>2</th>\n",
              "      <td>Star Wars Battlefront (2015)</td>\n",
              "      <td>4870</td>\n",
              "    </tr>\n",
              "    <tr>\n",
              "      <th>3</th>\n",
              "      <td>NBA 2K16</td>\n",
              "      <td>4410</td>\n",
              "    </tr>\n",
              "    <tr>\n",
              "      <th>4</th>\n",
              "      <td>Madden NFL 16</td>\n",
              "      <td>4400</td>\n",
              "    </tr>\n",
              "    <tr>\n",
              "      <th>5</th>\n",
              "      <td>Halo 5: Guardians</td>\n",
              "      <td>2640</td>\n",
              "    </tr>\n",
              "    <tr>\n",
              "      <th>6</th>\n",
              "      <td>Gears of War: Ultimate Edition</td>\n",
              "      <td>2380</td>\n",
              "    </tr>\n",
              "    <tr>\n",
              "      <th>7</th>\n",
              "      <td>Uncharted: The Nathan Drake Collection</td>\n",
              "      <td>1960</td>\n",
              "    </tr>\n",
              "    <tr>\n",
              "      <th>8</th>\n",
              "      <td>Splatoon</td>\n",
              "      <td>1550</td>\n",
              "    </tr>\n",
              "    <tr>\n",
              "      <th>9</th>\n",
              "      <td>Batman: Arkham Knight</td>\n",
              "      <td>1490</td>\n",
              "    </tr>\n",
              "  </tbody>\n",
              "</table>\n",
              "</div>"
            ],
            "text/plain": [
              "                                     Name  NA_Sales\n",
              "0               Call of Duty: Black Ops 3     10290\n",
              "1                               Fallout 4      4920\n",
              "2            Star Wars Battlefront (2015)      4870\n",
              "3                                NBA 2K16      4410\n",
              "4                           Madden NFL 16      4400\n",
              "5                       Halo 5: Guardians      2640\n",
              "6          Gears of War: Ultimate Edition      2380\n",
              "7  Uncharted: The Nathan Drake Collection      1960\n",
              "8                                Splatoon      1550\n",
              "9                   Batman: Arkham Knight      1490"
            ]
          },
          "metadata": {},
          "execution_count": 161
        }
      ]
    },
    {
      "cell_type": "code",
      "metadata": {
        "id": "kEmciy3pLsJv",
        "outputId": "d922e246-d350-4d3b-f0f7-1cb610715558",
        "colab": {
          "base_uri": "https://localhost:8080/",
          "height": 298
        }
      },
      "source": [
        "sns.barplot(data=df_na_top10,x=\"NA_Sales\",y=\"Name\",palette='gnuplot_r')\n",
        "# plt.xticks(rotation =90)\n",
        "plt.xlabel('total_sales')\n",
        "plt.ylabel('Name')"
      ],
      "execution_count": 162,
      "outputs": [
        {
          "output_type": "execute_result",
          "data": {
            "text/plain": [
              "Text(0, 0.5, 'Name')"
            ]
          },
          "metadata": {},
          "execution_count": 162
        },
        {
          "output_type": "display_data",
          "data": {
            "image/png": "[encoded data removed]",
            "text/plain": [
              "<Figure size 432x288 with 1 Axes>"
            ]
          },
          "metadata": {
            "needs_background": "light"
          }
        }
      ]
    },
    {
      "cell_type": "code",
      "metadata": {
        "id": "NBvuXo0bHjTx",
        "outputId": "ca2650ad-dc64-437f-c22e-95eff37a619c",
        "colab": {
          "base_uri": "https://localhost:8080/",
          "height": 358
        }
      },
      "source": [
        "#유럽 top 10\n",
        "df_eu_top10 = df_sales_new_filter.sort_values(['EU_Sales'],ascending=False).head(15)\n",
        "df_eu_top10 = df_eu_top10[['Name','EU_Sales']]\n",
        "df_eu_top10 = df_eu_top10.groupby('Name').sum().head(10)\n",
        "df_eu_top10 = df_eu_top10.sort_values('EU_Sales', ascending=False).reset_index()\n",
        "df_eu_top10"
      ],
      "execution_count": 164,
      "outputs": [
        {
          "output_type": "execute_result",
          "data": {
            "text/html": [
              "<div>\n",
              "<style scoped>\n",
              "    .dataframe tbody tr th:only-of-type {\n",
              "        vertical-align: middle;\n",
              "    }\n",
              "\n",
              "    .dataframe tbody tr th {\n",
              "        vertical-align: top;\n",
              "    }\n",
              "\n",
              "    .dataframe thead th {\n",
              "        text-align: right;\n",
              "    }\n",
              "</style>\n",
              "<table border=\"1\" class=\"dataframe\">\n",
              "  <thead>\n",
              "    <tr style=\"text-align: right;\">\n",
              "      <th></th>\n",
              "      <th>Name</th>\n",
              "      <th>EU_Sales</th>\n",
              "    </tr>\n",
              "  </thead>\n",
              "  <tbody>\n",
              "    <tr>\n",
              "      <th>0</th>\n",
              "      <td>FIFA 16</td>\n",
              "      <td>10150</td>\n",
              "    </tr>\n",
              "    <tr>\n",
              "      <th>1</th>\n",
              "      <td>Call of Duty: Black Ops 3</td>\n",
              "      <td>7900</td>\n",
              "    </tr>\n",
              "    <tr>\n",
              "      <th>2</th>\n",
              "      <td>FIFA 17</td>\n",
              "      <td>3750</td>\n",
              "    </tr>\n",
              "    <tr>\n",
              "      <th>3</th>\n",
              "      <td>Star Wars Battlefront (2015)</td>\n",
              "      <td>3290</td>\n",
              "    </tr>\n",
              "    <tr>\n",
              "      <th>4</th>\n",
              "      <td>Fallout 4</td>\n",
              "      <td>3150</td>\n",
              "    </tr>\n",
              "    <tr>\n",
              "      <th>5</th>\n",
              "      <td>The Witcher 3: Wild Hunt</td>\n",
              "      <td>2000</td>\n",
              "    </tr>\n",
              "    <tr>\n",
              "      <th>6</th>\n",
              "      <td>Assassin's Creed Syndicate</td>\n",
              "      <td>1920</td>\n",
              "    </tr>\n",
              "    <tr>\n",
              "      <th>7</th>\n",
              "      <td>Tom Clancy's The Division</td>\n",
              "      <td>1610</td>\n",
              "    </tr>\n",
              "    <tr>\n",
              "      <th>8</th>\n",
              "      <td>Batman: Arkham Knight</td>\n",
              "      <td>1580</td>\n",
              "    </tr>\n",
              "    <tr>\n",
              "      <th>9</th>\n",
              "      <td>Need for Speed (2015)</td>\n",
              "      <td>1490</td>\n",
              "    </tr>\n",
              "  </tbody>\n",
              "</table>\n",
              "</div>"
            ],
            "text/plain": [
              "                           Name  EU_Sales\n",
              "0                       FIFA 16     10150\n",
              "1     Call of Duty: Black Ops 3      7900\n",
              "2                       FIFA 17      3750\n",
              "3  Star Wars Battlefront (2015)      3290\n",
              "4                     Fallout 4      3150\n",
              "5      The Witcher 3: Wild Hunt      2000\n",
              "6    Assassin's Creed Syndicate      1920\n",
              "7     Tom Clancy's The Division      1610\n",
              "8         Batman: Arkham Knight      1580\n",
              "9         Need for Speed (2015)      1490"
            ]
          },
          "metadata": {},
          "execution_count": 164
        }
      ]
    },
    {
      "cell_type": "code",
      "metadata": {
        "id": "USgQ3oC0N6Gb",
        "outputId": "9d623b44-d6c6-4bd7-a673-190919692d3e",
        "colab": {
          "base_uri": "https://localhost:8080/",
          "height": 298
        }
      },
      "source": [
        "sns.barplot(data=df_eu_top10,x=\"EU_Sales\",y=\"Name\",palette='gnuplot_r')\n",
        "# plt.xticks(rotation =90)\n",
        "plt.xlabel('total_sales')\n",
        "plt.ylabel('Name')"
      ],
      "execution_count": 165,
      "outputs": [
        {
          "output_type": "execute_result",
          "data": {
            "text/plain": [
              "Text(0, 0.5, 'Name')"
            ]
          },
          "metadata": {},
          "execution_count": 165
        },
        {
          "output_type": "display_data",
          "data": {
            "image/png": "[encoded data removed]",
            "text/plain": [
              "<Figure size 432x288 with 1 Axes>"
            ]
          },
          "metadata": {
            "needs_background": "light"
          }
        }
      ]
    },
    {
      "cell_type": "code",
      "metadata": {
        "id": "iIFeV4j4IFJP",
        "outputId": "18549938-3db9-4733-80c3-c6064fa1d29b",
        "colab": {
          "base_uri": "https://localhost:8080/",
          "height": 358
        }
      },
      "source": [
        "#일본 top 10\n",
        "df_jp_top10 = df_sales_new_filter.sort_values(['JP_Sales'],ascending=False).head(15)\n",
        "df_jp_top10 = df_jp_top10[['Name','JP_Sales']]\n",
        "df_jp_top10 = df_jp_top10.groupby('Name').sum().head(10)\n",
        "df_jp_top10 = df_jp_top10.sort_values('JP_Sales', ascending=False).reset_index()\n",
        "df_jp_top10"
      ],
      "execution_count": 171,
      "outputs": [
        {
          "output_type": "execute_result",
          "data": {
            "text/html": [
              "<div>\n",
              "<style scoped>\n",
              "    .dataframe tbody tr th:only-of-type {\n",
              "        vertical-align: middle;\n",
              "    }\n",
              "\n",
              "    .dataframe tbody tr th {\n",
              "        vertical-align: top;\n",
              "    }\n",
              "\n",
              "    .dataframe thead th {\n",
              "        text-align: right;\n",
              "    }\n",
              "</style>\n",
              "<table border=\"1\" class=\"dataframe\">\n",
              "  <thead>\n",
              "    <tr style=\"text-align: right;\">\n",
              "      <th></th>\n",
              "      <th>Name</th>\n",
              "      <th>JP_Sales</th>\n",
              "    </tr>\n",
              "  </thead>\n",
              "  <tbody>\n",
              "    <tr>\n",
              "      <th>0</th>\n",
              "      <td>Monster Hunter X</td>\n",
              "      <td>2780</td>\n",
              "    </tr>\n",
              "    <tr>\n",
              "      <th>1</th>\n",
              "      <td>Splatoon</td>\n",
              "      <td>1440</td>\n",
              "    </tr>\n",
              "    <tr>\n",
              "      <th>2</th>\n",
              "      <td>Animal Crossing: Happy Home Designer</td>\n",
              "      <td>1390</td>\n",
              "    </tr>\n",
              "    <tr>\n",
              "      <th>3</th>\n",
              "      <td>Fire Emblem Fates</td>\n",
              "      <td>520</td>\n",
              "    </tr>\n",
              "    <tr>\n",
              "      <th>4</th>\n",
              "      <td>Metal Gear Solid V: The Phantom Pain</td>\n",
              "      <td>480</td>\n",
              "    </tr>\n",
              "    <tr>\n",
              "      <th>5</th>\n",
              "      <td>Call of Duty: Black Ops 3</td>\n",
              "      <td>350</td>\n",
              "    </tr>\n",
              "    <tr>\n",
              "      <th>6</th>\n",
              "      <td>Dark Souls III</td>\n",
              "      <td>330</td>\n",
              "    </tr>\n",
              "    <tr>\n",
              "      <th>7</th>\n",
              "      <td>Pokemon Super Mystery Dungeon</td>\n",
              "      <td>330</td>\n",
              "    </tr>\n",
              "    <tr>\n",
              "      <th>8</th>\n",
              "      <td>Fallout 4</td>\n",
              "      <td>240</td>\n",
              "    </tr>\n",
              "    <tr>\n",
              "      <th>9</th>\n",
              "      <td>Mario Party 10</td>\n",
              "      <td>240</td>\n",
              "    </tr>\n",
              "  </tbody>\n",
              "</table>\n",
              "</div>"
            ],
            "text/plain": [
              "                                   Name  JP_Sales\n",
              "0                      Monster Hunter X      2780\n",
              "1                              Splatoon      1440\n",
              "2  Animal Crossing: Happy Home Designer      1390\n",
              "3                     Fire Emblem Fates       520\n",
              "4  Metal Gear Solid V: The Phantom Pain       480\n",
              "5             Call of Duty: Black Ops 3       350\n",
              "6                        Dark Souls III       330\n",
              "7         Pokemon Super Mystery Dungeon       330\n",
              "8                             Fallout 4       240\n",
              "9                        Mario Party 10       240"
            ]
          },
          "metadata": {},
          "execution_count": 171
        }
      ]
    },
    {
      "cell_type": "code",
      "metadata": {
        "id": "3kgKlwWsODYG",
        "outputId": "739e29cb-9c26-416b-d233-18399aae0861",
        "colab": {
          "base_uri": "https://localhost:8080/",
          "height": 298
        }
      },
      "source": [
        "sns.barplot(data=df_jp_top10,x=\"JP_Sales\",y=\"Name\",palette='gnuplot_r')\n",
        "# plt.xticks(rotation =90)\n",
        "plt.xlabel('total_sales')\n",
        "plt.ylabel('Name')"
      ],
      "execution_count": 172,
      "outputs": [
        {
          "output_type": "execute_result",
          "data": {
            "text/plain": [
              "Text(0, 0.5, 'Name')"
            ]
          },
          "metadata": {},
          "execution_count": 172
        },
        {
          "output_type": "display_data",
          "data": {
            "image/png": "[encoded data removed]",
            "text/plain": [
              "<Figure size 432x288 with 1 Axes>"
            ]
          },
          "metadata": {
            "needs_background": "light"
          }
        }
      ]
    },
    {
      "cell_type": "code",
      "metadata": {
        "id": "lTReKXWK4CoT",
        "outputId": "6e766532-cae4-404b-9bec-45d1b50c7540",
        "colab": {
          "base_uri": "https://localhost:8080/",
          "height": 358
        }
      },
      "source": [
        "df_oth_top10 = df_sales_new_filter.sort_values(['Other_Sales'],ascending=False).head(15)\n",
        "df_oth_top10 = df_oth_top10[['Name','Other_Sales']]\n",
        "df_oth_top10 = df_oth_top10.groupby('Name').sum().head(10)\n",
        "df_oth_top10 = df_oth_top10.sort_values('Other_Sales', ascending=False).reset_index()\n",
        "df_oth_top10"
      ],
      "execution_count": 267,
      "outputs": [
        {
          "output_type": "execute_result",
          "data": {
            "text/html": [
              "<div>\n",
              "<style scoped>\n",
              "    .dataframe tbody tr th:only-of-type {\n",
              "        vertical-align: middle;\n",
              "    }\n",
              "\n",
              "    .dataframe tbody tr th {\n",
              "        vertical-align: top;\n",
              "    }\n",
              "\n",
              "    .dataframe thead th {\n",
              "        text-align: right;\n",
              "    }\n",
              "</style>\n",
              "<table border=\"1\" class=\"dataframe\">\n",
              "  <thead>\n",
              "    <tr style=\"text-align: right;\">\n",
              "      <th></th>\n",
              "      <th>Name</th>\n",
              "      <th>Other_Sales</th>\n",
              "    </tr>\n",
              "  </thead>\n",
              "  <tbody>\n",
              "    <tr>\n",
              "      <th>0</th>\n",
              "      <td>Call of Duty: Black Ops 3</td>\n",
              "      <td>2980</td>\n",
              "    </tr>\n",
              "    <tr>\n",
              "      <th>1</th>\n",
              "      <td>FIFA 16</td>\n",
              "      <td>1260</td>\n",
              "    </tr>\n",
              "    <tr>\n",
              "      <th>2</th>\n",
              "      <td>Star Wars Battlefront (2015)</td>\n",
              "      <td>1230</td>\n",
              "    </tr>\n",
              "    <tr>\n",
              "      <th>3</th>\n",
              "      <td>Fallout 4</td>\n",
              "      <td>1100</td>\n",
              "    </tr>\n",
              "    <tr>\n",
              "      <th>4</th>\n",
              "      <td>FIFA 17</td>\n",
              "      <td>690</td>\n",
              "    </tr>\n",
              "    <tr>\n",
              "      <th>5</th>\n",
              "      <td>NBA 2K16</td>\n",
              "      <td>690</td>\n",
              "    </tr>\n",
              "    <tr>\n",
              "      <th>6</th>\n",
              "      <td>Batman: Arkham Knight</td>\n",
              "      <td>610</td>\n",
              "    </tr>\n",
              "    <tr>\n",
              "      <th>7</th>\n",
              "      <td>Madden NFL 16</td>\n",
              "      <td>590</td>\n",
              "    </tr>\n",
              "    <tr>\n",
              "      <th>8</th>\n",
              "      <td>Assassin's Creed Syndicate</td>\n",
              "      <td>500</td>\n",
              "    </tr>\n",
              "    <tr>\n",
              "      <th>9</th>\n",
              "      <td>Metal Gear Solid V: The Phantom Pain</td>\n",
              "      <td>470</td>\n",
              "    </tr>\n",
              "  </tbody>\n",
              "</table>\n",
              "</div>"
            ],
            "text/plain": [
              "                                   Name  Other_Sales\n",
              "0             Call of Duty: Black Ops 3         2980\n",
              "1                               FIFA 16         1260\n",
              "2          Star Wars Battlefront (2015)         1230\n",
              "3                             Fallout 4         1100\n",
              "4                               FIFA 17          690\n",
              "5                              NBA 2K16          690\n",
              "6                 Batman: Arkham Knight          610\n",
              "7                         Madden NFL 16          590\n",
              "8            Assassin's Creed Syndicate          500\n",
              "9  Metal Gear Solid V: The Phantom Pain          470"
            ]
          },
          "metadata": {},
          "execution_count": 267
        }
      ]
    },
    {
      "cell_type": "code",
      "metadata": {
        "id": "asmYEm1a4CfV",
        "outputId": "0f4b0b49-8c13-4ca4-8608-5667359a769b",
        "colab": {
          "base_uri": "https://localhost:8080/",
          "height": 298
        }
      },
      "source": [
        "sns.barplot(data=df_oth_top10,x=\"Other_Sales\",y=\"Name\",palette='gnuplot_r')\n",
        "# plt.xticks(rotation =90)\n",
        "plt.xlabel('total_sales')\n",
        "plt.ylabel('Name')"
      ],
      "execution_count": 268,
      "outputs": [
        {
          "output_type": "execute_result",
          "data": {
            "text/plain": [
              "Text(0, 0.5, 'Name')"
            ]
          },
          "metadata": {},
          "execution_count": 268
        },
        {
          "output_type": "display_data",
          "data": {
            "image/png": "[encoded data removed]",
            "text/plain": [
              "<Figure size 432x288 with 1 Axes>"
            ]
          },
          "metadata": {
            "needs_background": "light"
          }
        }
      ]
    },
    {
      "cell_type": "code",
      "metadata": {
        "colab": {
          "base_uri": "https://localhost:8080/",
          "height": 298
        },
        "id": "PTTsKOuCYSmU",
        "outputId": "b6005551-8572-4bfb-fd93-0fc7acb7454b"
      },
      "source": [
        "#최근 5년간 출고량이 1M이상인 게임들의 주요 플랫폼\n",
        "sns.countplot(x='new_platform', data=df_sales_new_filter,palette='gnuplot_r')"
      ],
      "execution_count": 169,
      "outputs": [
        {
          "output_type": "execute_result",
          "data": {
            "text/plain": [
              "<matplotlib.axes._subplots.AxesSubplot at 0x7f1f930504d0>"
            ]
          },
          "metadata": {},
          "execution_count": 169
        },
        {
          "output_type": "display_data",
          "data": {
            "image/png": "[encoded data removed]",
            "text/plain": [
              "<Figure size 432x288 with 1 Axes>"
            ]
          },
          "metadata": {
            "needs_background": "light"
          }
        }
      ]
    },
    {
      "cell_type": "markdown",
      "metadata": {
        "id": "IKWOqEO4aO3Z"
      },
      "source": [
        "PS게임이 압도적으로 많으나 가장 최근 출시된 게임이 닌텐도 DS와 관련된 게임이므로 닌텐도 플랫폼을 주시하여야 한다. -> 최근 동물의숲, 닌텐도 스위치의 등장으로 닌텐도의 향후 전망도 기대해볼만 하다.\n"
      ]
    },
    {
      "cell_type": "code",
      "metadata": {
        "id": "1aGfiaytswU2"
      },
      "source": [
        "dfsn = df_sales_new_filter[['NA_Sales','EU_Sales','JP_Sales','Other_Sales','total_sales']]"
      ],
      "execution_count": 173,
      "outputs": []
    },
    {
      "cell_type": "code",
      "metadata": {
        "id": "V2CABecHs7_N",
        "outputId": "82f92da0-b367-4c19-d610-e242691a2f87",
        "colab": {
          "base_uri": "https://localhost:8080/",
          "height": 418
        }
      },
      "source": [
        "#standard\n",
        "scaler = StandardScaler()\n",
        "Z = scaler.fit_transform(dfsn)\n",
        "pca=PCA(2)\n",
        "pca.fit(Z)\n",
        "B = pca.transform(Z)\n",
        "\n",
        "df_pc = pd.DataFrame(B,columns=['pc1','pc2'])\n",
        "df_pc['new_platform'] = df_sales_new_filter['new_platform']\n",
        "df_pc"
      ],
      "execution_count": 175,
      "outputs": [
        {
          "output_type": "execute_result",
          "data": {
            "text/html": [
              "<div>\n",
              "<style scoped>\n",
              "    .dataframe tbody tr th:only-of-type {\n",
              "        vertical-align: middle;\n",
              "    }\n",
              "\n",
              "    .dataframe tbody tr th {\n",
              "        vertical-align: top;\n",
              "    }\n",
              "\n",
              "    .dataframe thead th {\n",
              "        text-align: right;\n",
              "    }\n",
              "</style>\n",
              "<table border=\"1\" class=\"dataframe\">\n",
              "  <thead>\n",
              "    <tr style=\"text-align: right;\">\n",
              "      <th></th>\n",
              "      <th>pc1</th>\n",
              "      <th>pc2</th>\n",
              "      <th>new_platform</th>\n",
              "    </tr>\n",
              "  </thead>\n",
              "  <tbody>\n",
              "    <tr>\n",
              "      <th>0</th>\n",
              "      <td>10.327647</td>\n",
              "      <td>0.713596</td>\n",
              "      <td>PS</td>\n",
              "    </tr>\n",
              "    <tr>\n",
              "      <th>1</th>\n",
              "      <td>5.201146</td>\n",
              "      <td>0.081025</td>\n",
              "      <td>PS</td>\n",
              "    </tr>\n",
              "    <tr>\n",
              "      <th>2</th>\n",
              "      <td>4.555361</td>\n",
              "      <td>0.212963</td>\n",
              "      <td>PS</td>\n",
              "    </tr>\n",
              "    <tr>\n",
              "      <th>3</th>\n",
              "      <td>3.823419</td>\n",
              "      <td>-0.324350</td>\n",
              "      <td>XBOX</td>\n",
              "    </tr>\n",
              "    <tr>\n",
              "      <th>4</th>\n",
              "      <td>3.895007</td>\n",
              "      <td>0.240101</td>\n",
              "      <td>PS</td>\n",
              "    </tr>\n",
              "    <tr>\n",
              "      <th>...</th>\n",
              "      <td>...</td>\n",
              "      <td>...</td>\n",
              "      <td>...</td>\n",
              "    </tr>\n",
              "    <tr>\n",
              "      <th>70</th>\n",
              "      <td>-1.326343</td>\n",
              "      <td>-0.151658</td>\n",
              "      <td>Nintendo</td>\n",
              "    </tr>\n",
              "    <tr>\n",
              "      <th>71</th>\n",
              "      <td>-1.253494</td>\n",
              "      <td>-0.487633</td>\n",
              "      <td>PC</td>\n",
              "    </tr>\n",
              "    <tr>\n",
              "      <th>72</th>\n",
              "      <td>-1.231797</td>\n",
              "      <td>-0.292805</td>\n",
              "      <td>PS</td>\n",
              "    </tr>\n",
              "    <tr>\n",
              "      <th>73</th>\n",
              "      <td>-1.262669</td>\n",
              "      <td>-0.245718</td>\n",
              "      <td>PS</td>\n",
              "    </tr>\n",
              "    <tr>\n",
              "      <th>74</th>\n",
              "      <td>-1.226433</td>\n",
              "      <td>-0.441386</td>\n",
              "      <td>PS</td>\n",
              "    </tr>\n",
              "  </tbody>\n",
              "</table>\n",
              "<p>75 rows × 3 columns</p>\n",
              "</div>"
            ],
            "text/plain": [
              "          pc1       pc2 new_platform\n",
              "0   10.327647  0.713596           PS\n",
              "1    5.201146  0.081025           PS\n",
              "2    4.555361  0.212963           PS\n",
              "3    3.823419 -0.324350         XBOX\n",
              "4    3.895007  0.240101           PS\n",
              "..        ...       ...          ...\n",
              "70  -1.326343 -0.151658     Nintendo\n",
              "71  -1.253494 -0.487633           PC\n",
              "72  -1.231797 -0.292805           PS\n",
              "73  -1.262669 -0.245718           PS\n",
              "74  -1.226433 -0.441386           PS\n",
              "\n",
              "[75 rows x 3 columns]"
            ]
          },
          "metadata": {},
          "execution_count": 175
        }
      ]
    },
    {
      "cell_type": "code",
      "metadata": {
        "id": "aZn09BeFy32-"
      },
      "source": [
        "df_pc1 = pd.DataFrame(B,columns=['pc1','pc2'])"
      ],
      "execution_count": 176,
      "outputs": []
    },
    {
      "cell_type": "code",
      "metadata": {
        "id": "FTNh2BKltOWV",
        "outputId": "c7f73547-30a1-4242-8115-f3889e512ac0",
        "colab": {
          "base_uri": "https://localhost:8080/",
          "height": 386
        }
      },
      "source": [
        "sns.scatterplot(df_pc['pc1'], df_pc['pc2'], hue=df_pc.new_platform)\n",
        "plt.title(\"Data After PCA\")\n",
        "plt.xlabel('pc1')\n",
        "plt.ylabel('pc2')\n",
        "plt.show()\n"
      ],
      "execution_count": 177,
      "outputs": [
        {
          "output_type": "stream",
          "name": "stderr",
          "text": [
            "/usr/local/lib/python3.7/dist-packages/seaborn/_decorators.py:43: FutureWarning:\n",
            "\n",
            "Pass the following variables as keyword args: x, y. From version 0.12, the only valid positional argument will be `data`, and passing other arguments without an explicit keyword will result in an error or misinterpretation.\n",
            "\n"
          ]
        },
        {
          "output_type": "display_data",
          "data": {
            "image/png": "[encoded data removed]",
            "text/plain": [
              "<Figure size 432x288 with 1 Axes>"
            ]
          },
          "metadata": {
            "needs_background": "light"
          }
        }
      ]
    },
    {
      "cell_type": "code",
      "metadata": {
        "colab": {
          "base_uri": "https://localhost:8080/",
          "height": 420
        },
        "id": "3TvS6GqaZoDs",
        "outputId": "5c9b49ad-137e-4860-9bb2-5b76a8810852"
      },
      "source": [
        "\n",
        "ch_n = df_sales_new_filter.sort_values('NA_Sales',ascending=False)[:3]\n",
        "ch_n = ch_n[['Genre','NA_Sales']]\n",
        "ch1_n = df_sales_new_filter.sort_values('EU_Sales',ascending=False)[:3]\n",
        "ch1_n = ch1_n[['Genre','EU_Sales']]\n",
        "ch2_n = df_sales_new_filter.sort_values('JP_Sales',ascending=False)[:3]\n",
        "ch2_n = ch2_n[['Genre','JP_Sales']]\n",
        "ch3_n = df_sales_new_filter.sort_values('Other_Sales',ascending=False)[:3]\n",
        "ch3_n = ch3_n[['Genre','Other_Sales']]\n",
        "chart2 = pd.concat([ch_n,ch1_n,ch2_n,ch3_n],ignore_index=True)\n",
        "chart2 = pd.melt(chart2, id_vars=['Genre'],value_vars=['NA_Sales','EU_Sales','JP_Sales','Other_Sales']).dropna()\n",
        "chart2"
      ],
      "execution_count": 178,
      "outputs": [
        {
          "output_type": "execute_result",
          "data": {
            "text/html": [
              "<div>\n",
              "<style scoped>\n",
              "    .dataframe tbody tr th:only-of-type {\n",
              "        vertical-align: middle;\n",
              "    }\n",
              "\n",
              "    .dataframe tbody tr th {\n",
              "        vertical-align: top;\n",
              "    }\n",
              "\n",
              "    .dataframe thead th {\n",
              "        text-align: right;\n",
              "    }\n",
              "</style>\n",
              "<table border=\"1\" class=\"dataframe\">\n",
              "  <thead>\n",
              "    <tr style=\"text-align: right;\">\n",
              "      <th></th>\n",
              "      <th>Genre</th>\n",
              "      <th>variable</th>\n",
              "      <th>value</th>\n",
              "    </tr>\n",
              "  </thead>\n",
              "  <tbody>\n",
              "    <tr>\n",
              "      <th>0</th>\n",
              "      <td>Shooter</td>\n",
              "      <td>NA_Sales</td>\n",
              "      <td>5770.0</td>\n",
              "    </tr>\n",
              "    <tr>\n",
              "      <th>1</th>\n",
              "      <td>Shooter</td>\n",
              "      <td>NA_Sales</td>\n",
              "      <td>4520.0</td>\n",
              "    </tr>\n",
              "    <tr>\n",
              "      <th>2</th>\n",
              "      <td>Shooter</td>\n",
              "      <td>NA_Sales</td>\n",
              "      <td>2930.0</td>\n",
              "    </tr>\n",
              "    <tr>\n",
              "      <th>15</th>\n",
              "      <td>Sports</td>\n",
              "      <td>EU_Sales</td>\n",
              "      <td>6060.0</td>\n",
              "    </tr>\n",
              "    <tr>\n",
              "      <th>16</th>\n",
              "      <td>Shooter</td>\n",
              "      <td>EU_Sales</td>\n",
              "      <td>5810.0</td>\n",
              "    </tr>\n",
              "    <tr>\n",
              "      <th>17</th>\n",
              "      <td>Sports</td>\n",
              "      <td>EU_Sales</td>\n",
              "      <td>3750.0</td>\n",
              "    </tr>\n",
              "    <tr>\n",
              "      <th>30</th>\n",
              "      <td>Action</td>\n",
              "      <td>JP_Sales</td>\n",
              "      <td>2780.0</td>\n",
              "    </tr>\n",
              "    <tr>\n",
              "      <th>31</th>\n",
              "      <td>Action</td>\n",
              "      <td>JP_Sales</td>\n",
              "      <td>2280.0</td>\n",
              "    </tr>\n",
              "    <tr>\n",
              "      <th>32</th>\n",
              "      <td>Shooter</td>\n",
              "      <td>JP_Sales</td>\n",
              "      <td>1440.0</td>\n",
              "    </tr>\n",
              "    <tr>\n",
              "      <th>45</th>\n",
              "      <td>Shooter</td>\n",
              "      <td>Other_Sales</td>\n",
              "      <td>2310.0</td>\n",
              "    </tr>\n",
              "    <tr>\n",
              "      <th>46</th>\n",
              "      <td>Sports</td>\n",
              "      <td>Other_Sales</td>\n",
              "      <td>1260.0</td>\n",
              "    </tr>\n",
              "    <tr>\n",
              "      <th>47</th>\n",
              "      <td>Shooter</td>\n",
              "      <td>Other_Sales</td>\n",
              "      <td>1230.0</td>\n",
              "    </tr>\n",
              "  </tbody>\n",
              "</table>\n",
              "</div>"
            ],
            "text/plain": [
              "      Genre     variable   value\n",
              "0   Shooter     NA_Sales  5770.0\n",
              "1   Shooter     NA_Sales  4520.0\n",
              "2   Shooter     NA_Sales  2930.0\n",
              "15   Sports     EU_Sales  6060.0\n",
              "16  Shooter     EU_Sales  5810.0\n",
              "17   Sports     EU_Sales  3750.0\n",
              "30   Action     JP_Sales  2780.0\n",
              "31   Action     JP_Sales  2280.0\n",
              "32  Shooter     JP_Sales  1440.0\n",
              "45  Shooter  Other_Sales  2310.0\n",
              "46   Sports  Other_Sales  1260.0\n",
              "47  Shooter  Other_Sales  1230.0"
            ]
          },
          "metadata": {},
          "execution_count": 178
        }
      ]
    },
    {
      "cell_type": "code",
      "metadata": {
        "colab": {
          "base_uri": "https://localhost:8080/",
          "height": 298
        },
        "id": "NWAVAIu9eu0C",
        "outputId": "e88a9932-aa43-4cb0-8733-d858bfd04e2b"
      },
      "source": [
        "sns.barplot(data=chart2,x='variable', y='value', hue='Genre',capsize=0.1,palette='gnuplot_r')"
      ],
      "execution_count": 179,
      "outputs": [
        {
          "output_type": "execute_result",
          "data": {
            "text/plain": [
              "<matplotlib.axes._subplots.AxesSubplot at 0x7f1f92f22950>"
            ]
          },
          "metadata": {},
          "execution_count": 179
        },
        {
          "output_type": "display_data",
          "data": {
            "image/png": "[encoded data removed]",
            "text/plain": [
              "<Figure size 432x288 with 1 Axes>"
            ]
          },
          "metadata": {
            "needs_background": "light"
          }
        }
      ]
    },
    {
      "cell_type": "code",
      "metadata": {
        "id": "KNMOUvF_inWW"
      },
      "source": [
        "#국가별 출고량 분포표 -> 어떤 시장 공략이 좋을지\n",
        "ps_na = pd.DataFrame(df_sales_new_filter['NA_Sales'].groupby(df_sales_new_filter['new_platform']).sum())\n",
        "gs_na = pd.DataFrame(df_sales_new_filter['NA_Sales'].groupby(df_sales_new_filter['Genre']).sum())\n",
        "\n",
        "ps_eu = pd.DataFrame(df_sales_new_filter['EU_Sales'].groupby(df_sales_new_filter['new_platform']).sum())\n",
        "gs_eu = pd.DataFrame(df_sales_new_filter['EU_Sales'].groupby(df_sales_new_filter['Genre']).sum())\n",
        "\n",
        "ps_jp = pd.DataFrame(df_sales_new_filter['JP_Sales'].groupby(df_sales_new_filter['new_platform']).sum())\n",
        "gs_jp = pd.DataFrame(df_sales_new_filter['JP_Sales'].groupby(df_sales_new_filter['Genre']).sum())\n",
        "\n",
        "ps_oth = pd.DataFrame(df_sales_new_filter['Other_Sales'].groupby(df_sales_new_filter['new_platform']).sum())\n",
        "gs_oth = pd.DataFrame(df_sales_new_filter['Other_Sales'].groupby(df_sales_new_filter['Genre']).sum())"
      ],
      "execution_count": 180,
      "outputs": []
    },
    {
      "cell_type": "code",
      "metadata": {
        "id": "JKaszHQHxhhf",
        "outputId": "6f244b8d-eb70-48a0-d0ad-b33b28dfac00",
        "colab": {
          "base_uri": "https://localhost:8080/",
          "height": 204
        }
      },
      "source": [
        "ps1 =  pd.concat([ps_na,ps_eu,ps_jp,ps_oth],axis=1)\n",
        "ps1"
      ],
      "execution_count": 181,
      "outputs": [
        {
          "output_type": "execute_result",
          "data": {
            "text/html": [
              "<div>\n",
              "<style scoped>\n",
              "    .dataframe tbody tr th:only-of-type {\n",
              "        vertical-align: middle;\n",
              "    }\n",
              "\n",
              "    .dataframe tbody tr th {\n",
              "        vertical-align: top;\n",
              "    }\n",
              "\n",
              "    .dataframe thead th {\n",
              "        text-align: right;\n",
              "    }\n",
              "</style>\n",
              "<table border=\"1\" class=\"dataframe\">\n",
              "  <thead>\n",
              "    <tr style=\"text-align: right;\">\n",
              "      <th></th>\n",
              "      <th>NA_Sales</th>\n",
              "      <th>EU_Sales</th>\n",
              "      <th>JP_Sales</th>\n",
              "      <th>Other_Sales</th>\n",
              "    </tr>\n",
              "    <tr>\n",
              "      <th>new_platform</th>\n",
              "      <th></th>\n",
              "      <th></th>\n",
              "      <th></th>\n",
              "      <th></th>\n",
              "    </tr>\n",
              "  </thead>\n",
              "  <tbody>\n",
              "    <tr>\n",
              "      <th>Nintendo</th>\n",
              "      <td>8100</td>\n",
              "      <td>6170</td>\n",
              "      <td>11930</td>\n",
              "      <td>1530</td>\n",
              "    </tr>\n",
              "    <tr>\n",
              "      <th>PC</th>\n",
              "      <td>860</td>\n",
              "      <td>1270</td>\n",
              "      <td>0</td>\n",
              "      <td>180</td>\n",
              "    </tr>\n",
              "    <tr>\n",
              "      <th>PS</th>\n",
              "      <td>40440</td>\n",
              "      <td>54720</td>\n",
              "      <td>3880</td>\n",
              "      <td>18510</td>\n",
              "    </tr>\n",
              "    <tr>\n",
              "      <th>XBOX</th>\n",
              "      <td>28410</td>\n",
              "      <td>16210</td>\n",
              "      <td>130</td>\n",
              "      <td>4420</td>\n",
              "    </tr>\n",
              "  </tbody>\n",
              "</table>\n",
              "</div>"
            ],
            "text/plain": [
              "              NA_Sales  EU_Sales  JP_Sales  Other_Sales\n",
              "new_platform                                           \n",
              "Nintendo          8100      6170     11930         1530\n",
              "PC                 860      1270         0          180\n",
              "PS               40440     54720      3880        18510\n",
              "XBOX             28410     16210       130         4420"
            ]
          },
          "metadata": {},
          "execution_count": 181
        }
      ]
    },
    {
      "cell_type": "code",
      "metadata": {
        "colab": {
          "base_uri": "https://localhost:8080/",
          "height": 172
        },
        "id": "So6KCWySlDCr",
        "outputId": "c605a6c8-29ec-4483-dddb-0cce11b191dc"
      },
      "source": [
        "ps = pd.concat([ps_na,ps_eu,ps_jp,ps_oth],axis=1).reset_index()\n",
        "ps"
      ],
      "execution_count": 182,
      "outputs": [
        {
          "output_type": "execute_result",
          "data": {
            "text/html": [
              "<div>\n",
              "<style scoped>\n",
              "    .dataframe tbody tr th:only-of-type {\n",
              "        vertical-align: middle;\n",
              "    }\n",
              "\n",
              "    .dataframe tbody tr th {\n",
              "        vertical-align: top;\n",
              "    }\n",
              "\n",
              "    .dataframe thead th {\n",
              "        text-align: right;\n",
              "    }\n",
              "</style>\n",
              "<table border=\"1\" class=\"dataframe\">\n",
              "  <thead>\n",
              "    <tr style=\"text-align: right;\">\n",
              "      <th></th>\n",
              "      <th>new_platform</th>\n",
              "      <th>NA_Sales</th>\n",
              "      <th>EU_Sales</th>\n",
              "      <th>JP_Sales</th>\n",
              "      <th>Other_Sales</th>\n",
              "    </tr>\n",
              "  </thead>\n",
              "  <tbody>\n",
              "    <tr>\n",
              "      <th>0</th>\n",
              "      <td>Nintendo</td>\n",
              "      <td>8100</td>\n",
              "      <td>6170</td>\n",
              "      <td>11930</td>\n",
              "      <td>1530</td>\n",
              "    </tr>\n",
              "    <tr>\n",
              "      <th>1</th>\n",
              "      <td>PC</td>\n",
              "      <td>860</td>\n",
              "      <td>1270</td>\n",
              "      <td>0</td>\n",
              "      <td>180</td>\n",
              "    </tr>\n",
              "    <tr>\n",
              "      <th>2</th>\n",
              "      <td>PS</td>\n",
              "      <td>40440</td>\n",
              "      <td>54720</td>\n",
              "      <td>3880</td>\n",
              "      <td>18510</td>\n",
              "    </tr>\n",
              "    <tr>\n",
              "      <th>3</th>\n",
              "      <td>XBOX</td>\n",
              "      <td>28410</td>\n",
              "      <td>16210</td>\n",
              "      <td>130</td>\n",
              "      <td>4420</td>\n",
              "    </tr>\n",
              "  </tbody>\n",
              "</table>\n",
              "</div>"
            ],
            "text/plain": [
              "  new_platform  NA_Sales  EU_Sales  JP_Sales  Other_Sales\n",
              "0     Nintendo      8100      6170     11930         1530\n",
              "1           PC       860      1270         0          180\n",
              "2           PS     40440     54720      3880        18510\n",
              "3         XBOX     28410     16210       130         4420"
            ]
          },
          "metadata": {},
          "execution_count": 182
        }
      ]
    },
    {
      "cell_type": "code",
      "metadata": {
        "id": "0d7JzXt1x1O-",
        "outputId": "a968583f-b43a-41a0-c8a2-cdc213170590",
        "colab": {
          "base_uri": "https://localhost:8080/"
        }
      },
      "source": [
        "label = ps['new_platform']\n",
        "label"
      ],
      "execution_count": 183,
      "outputs": [
        {
          "output_type": "execute_result",
          "data": {
            "text/plain": [
              "0    Nintendo\n",
              "1          PC\n",
              "2          PS\n",
              "3        XBOX\n",
              "Name: new_platform, dtype: object"
            ]
          },
          "metadata": {},
          "execution_count": 183
        }
      ]
    },
    {
      "cell_type": "code",
      "metadata": {
        "colab": {
          "base_uri": "https://localhost:8080/",
          "height": 543
        },
        "id": "Yt-msplKoTes",
        "outputId": "7a92ea23-b512-4bf3-930a-adef1ed98f2a"
      },
      "source": [
        "ps1 = ps.melt(id_vars='new_platform',value_vars=['NA_Sales','EU_Sales','JP_Sales','Other_Sales'])\n",
        "ps1"
      ],
      "execution_count": 184,
      "outputs": [
        {
          "output_type": "execute_result",
          "data": {
            "text/html": [
              "<div>\n",
              "<style scoped>\n",
              "    .dataframe tbody tr th:only-of-type {\n",
              "        vertical-align: middle;\n",
              "    }\n",
              "\n",
              "    .dataframe tbody tr th {\n",
              "        vertical-align: top;\n",
              "    }\n",
              "\n",
              "    .dataframe thead th {\n",
              "        text-align: right;\n",
              "    }\n",
              "</style>\n",
              "<table border=\"1\" class=\"dataframe\">\n",
              "  <thead>\n",
              "    <tr style=\"text-align: right;\">\n",
              "      <th></th>\n",
              "      <th>new_platform</th>\n",
              "      <th>variable</th>\n",
              "      <th>value</th>\n",
              "    </tr>\n",
              "  </thead>\n",
              "  <tbody>\n",
              "    <tr>\n",
              "      <th>0</th>\n",
              "      <td>Nintendo</td>\n",
              "      <td>NA_Sales</td>\n",
              "      <td>8100</td>\n",
              "    </tr>\n",
              "    <tr>\n",
              "      <th>1</th>\n",
              "      <td>PC</td>\n",
              "      <td>NA_Sales</td>\n",
              "      <td>860</td>\n",
              "    </tr>\n",
              "    <tr>\n",
              "      <th>2</th>\n",
              "      <td>PS</td>\n",
              "      <td>NA_Sales</td>\n",
              "      <td>40440</td>\n",
              "    </tr>\n",
              "    <tr>\n",
              "      <th>3</th>\n",
              "      <td>XBOX</td>\n",
              "      <td>NA_Sales</td>\n",
              "      <td>28410</td>\n",
              "    </tr>\n",
              "    <tr>\n",
              "      <th>4</th>\n",
              "      <td>Nintendo</td>\n",
              "      <td>EU_Sales</td>\n",
              "      <td>6170</td>\n",
              "    </tr>\n",
              "    <tr>\n",
              "      <th>5</th>\n",
              "      <td>PC</td>\n",
              "      <td>EU_Sales</td>\n",
              "      <td>1270</td>\n",
              "    </tr>\n",
              "    <tr>\n",
              "      <th>6</th>\n",
              "      <td>PS</td>\n",
              "      <td>EU_Sales</td>\n",
              "      <td>54720</td>\n",
              "    </tr>\n",
              "    <tr>\n",
              "      <th>7</th>\n",
              "      <td>XBOX</td>\n",
              "      <td>EU_Sales</td>\n",
              "      <td>16210</td>\n",
              "    </tr>\n",
              "    <tr>\n",
              "      <th>8</th>\n",
              "      <td>Nintendo</td>\n",
              "      <td>JP_Sales</td>\n",
              "      <td>11930</td>\n",
              "    </tr>\n",
              "    <tr>\n",
              "      <th>9</th>\n",
              "      <td>PC</td>\n",
              "      <td>JP_Sales</td>\n",
              "      <td>0</td>\n",
              "    </tr>\n",
              "    <tr>\n",
              "      <th>10</th>\n",
              "      <td>PS</td>\n",
              "      <td>JP_Sales</td>\n",
              "      <td>3880</td>\n",
              "    </tr>\n",
              "    <tr>\n",
              "      <th>11</th>\n",
              "      <td>XBOX</td>\n",
              "      <td>JP_Sales</td>\n",
              "      <td>130</td>\n",
              "    </tr>\n",
              "    <tr>\n",
              "      <th>12</th>\n",
              "      <td>Nintendo</td>\n",
              "      <td>Other_Sales</td>\n",
              "      <td>1530</td>\n",
              "    </tr>\n",
              "    <tr>\n",
              "      <th>13</th>\n",
              "      <td>PC</td>\n",
              "      <td>Other_Sales</td>\n",
              "      <td>180</td>\n",
              "    </tr>\n",
              "    <tr>\n",
              "      <th>14</th>\n",
              "      <td>PS</td>\n",
              "      <td>Other_Sales</td>\n",
              "      <td>18510</td>\n",
              "    </tr>\n",
              "    <tr>\n",
              "      <th>15</th>\n",
              "      <td>XBOX</td>\n",
              "      <td>Other_Sales</td>\n",
              "      <td>4420</td>\n",
              "    </tr>\n",
              "  </tbody>\n",
              "</table>\n",
              "</div>"
            ],
            "text/plain": [
              "   new_platform     variable  value\n",
              "0      Nintendo     NA_Sales   8100\n",
              "1            PC     NA_Sales    860\n",
              "2            PS     NA_Sales  40440\n",
              "3          XBOX     NA_Sales  28410\n",
              "4      Nintendo     EU_Sales   6170\n",
              "5            PC     EU_Sales   1270\n",
              "6            PS     EU_Sales  54720\n",
              "7          XBOX     EU_Sales  16210\n",
              "8      Nintendo     JP_Sales  11930\n",
              "9            PC     JP_Sales      0\n",
              "10           PS     JP_Sales   3880\n",
              "11         XBOX     JP_Sales    130\n",
              "12     Nintendo  Other_Sales   1530\n",
              "13           PC  Other_Sales    180\n",
              "14           PS  Other_Sales  18510\n",
              "15         XBOX  Other_Sales   4420"
            ]
          },
          "metadata": {},
          "execution_count": 184
        }
      ]
    },
    {
      "cell_type": "code",
      "metadata": {
        "colab": {
          "base_uri": "https://localhost:8080/",
          "height": 334
        },
        "id": "Ao86AaRZoe7K",
        "outputId": "5889f135-e3f4-4755-87ec-2307c2d4bfe7"
      },
      "source": [
        "sns.lineplot(data=ps1, x='new_platform',y='value',hue='variable',palette='gnuplot_r')\n",
        "plt.xticks(rotation =90)"
      ],
      "execution_count": 185,
      "outputs": [
        {
          "output_type": "execute_result",
          "data": {
            "text/plain": [
              "([0, 1, 2, 3], <a list of 4 Text major ticklabel objects>)"
            ]
          },
          "metadata": {},
          "execution_count": 185
        },
        {
          "output_type": "display_data",
          "data": {
            "image/png": "[encoded data removed]",
            "text/plain": [
              "<Figure size 432x288 with 1 Axes>"
            ]
          },
          "metadata": {
            "needs_background": "light"
          }
        }
      ]
    },
    {
      "cell_type": "code",
      "metadata": {
        "id": "RtH7MmITqu_s"
      },
      "source": [
        "gs_pca =pd.concat([gs_na,gs_eu,gs_jp,gs_oth],axis=1)"
      ],
      "execution_count": 186,
      "outputs": []
    },
    {
      "cell_type": "code",
      "metadata": {
        "colab": {
          "base_uri": "https://localhost:8080/",
          "height": 358
        },
        "id": "20OXwWjjmDFT",
        "outputId": "9d4996ab-3d70-407b-c202-63fd0d7bc11b"
      },
      "source": [
        "gs = pd.concat([gs_na,gs_eu,gs_jp,gs_oth],axis=1).reset_index()\n",
        "gs"
      ],
      "execution_count": 187,
      "outputs": [
        {
          "output_type": "execute_result",
          "data": {
            "text/html": [
              "<div>\n",
              "<style scoped>\n",
              "    .dataframe tbody tr th:only-of-type {\n",
              "        vertical-align: middle;\n",
              "    }\n",
              "\n",
              "    .dataframe tbody tr th {\n",
              "        vertical-align: top;\n",
              "    }\n",
              "\n",
              "    .dataframe thead th {\n",
              "        text-align: right;\n",
              "    }\n",
              "</style>\n",
              "<table border=\"1\" class=\"dataframe\">\n",
              "  <thead>\n",
              "    <tr style=\"text-align: right;\">\n",
              "      <th></th>\n",
              "      <th>Genre</th>\n",
              "      <th>NA_Sales</th>\n",
              "      <th>EU_Sales</th>\n",
              "      <th>JP_Sales</th>\n",
              "      <th>Other_Sales</th>\n",
              "    </tr>\n",
              "  </thead>\n",
              "  <tbody>\n",
              "    <tr>\n",
              "      <th>0</th>\n",
              "      <td>Action</td>\n",
              "      <td>11650</td>\n",
              "      <td>13420</td>\n",
              "      <td>7990</td>\n",
              "      <td>4230</td>\n",
              "    </tr>\n",
              "    <tr>\n",
              "      <th>1</th>\n",
              "      <td>Adventure</td>\n",
              "      <td>970</td>\n",
              "      <td>1530</td>\n",
              "      <td>70</td>\n",
              "      <td>350</td>\n",
              "    </tr>\n",
              "    <tr>\n",
              "      <th>2</th>\n",
              "      <td>Fighting</td>\n",
              "      <td>3160</td>\n",
              "      <td>1860</td>\n",
              "      <td>220</td>\n",
              "      <td>910</td>\n",
              "    </tr>\n",
              "    <tr>\n",
              "      <th>3</th>\n",
              "      <td>Misc</td>\n",
              "      <td>1210</td>\n",
              "      <td>1090</td>\n",
              "      <td>240</td>\n",
              "      <td>210</td>\n",
              "    </tr>\n",
              "    <tr>\n",
              "      <th>4</th>\n",
              "      <td>Platform</td>\n",
              "      <td>2110</td>\n",
              "      <td>1980</td>\n",
              "      <td>1080</td>\n",
              "      <td>480</td>\n",
              "    </tr>\n",
              "    <tr>\n",
              "      <th>5</th>\n",
              "      <td>Racing</td>\n",
              "      <td>1350</td>\n",
              "      <td>3070</td>\n",
              "      <td>100</td>\n",
              "      <td>650</td>\n",
              "    </tr>\n",
              "    <tr>\n",
              "      <th>6</th>\n",
              "      <td>Role-Playing</td>\n",
              "      <td>10220</td>\n",
              "      <td>9640</td>\n",
              "      <td>1640</td>\n",
              "      <td>3030</td>\n",
              "    </tr>\n",
              "    <tr>\n",
              "      <th>7</th>\n",
              "      <td>Shooter</td>\n",
              "      <td>32310</td>\n",
              "      <td>26620</td>\n",
              "      <td>3010</td>\n",
              "      <td>9410</td>\n",
              "    </tr>\n",
              "    <tr>\n",
              "      <th>8</th>\n",
              "      <td>Simulation</td>\n",
              "      <td>470</td>\n",
              "      <td>1000</td>\n",
              "      <td>1390</td>\n",
              "      <td>120</td>\n",
              "    </tr>\n",
              "    <tr>\n",
              "      <th>9</th>\n",
              "      <td>Sports</td>\n",
              "      <td>14360</td>\n",
              "      <td>18160</td>\n",
              "      <td>200</td>\n",
              "      <td>5250</td>\n",
              "    </tr>\n",
              "  </tbody>\n",
              "</table>\n",
              "</div>"
            ],
            "text/plain": [
              "          Genre  NA_Sales  EU_Sales  JP_Sales  Other_Sales\n",
              "0        Action     11650     13420      7990         4230\n",
              "1     Adventure       970      1530        70          350\n",
              "2      Fighting      3160      1860       220          910\n",
              "3          Misc      1210      1090       240          210\n",
              "4      Platform      2110      1980      1080          480\n",
              "5        Racing      1350      3070       100          650\n",
              "6  Role-Playing     10220      9640      1640         3030\n",
              "7       Shooter     32310     26620      3010         9410\n",
              "8    Simulation       470      1000      1390          120\n",
              "9        Sports     14360     18160       200         5250"
            ]
          },
          "metadata": {},
          "execution_count": 187
        }
      ]
    },
    {
      "cell_type": "code",
      "metadata": {
        "id": "D9YmTYNCvmkp"
      },
      "source": [
        "gs1 = gs.melt(id_vars='Genre',value_vars=['NA_Sales','EU_Sales','JP_Sales','Other_Sales'])\n",
        "gs1"
      ],
      "execution_count": null,
      "outputs": []
    },
    {
      "cell_type": "code",
      "metadata": {
        "colab": {
          "base_uri": "https://localhost:8080/",
          "height": 348
        },
        "id": "VLHfD-aSmmFD",
        "outputId": "1a168a6f-89af-4fda-9a21-889ac739f63a"
      },
      "source": [
        "sns.lineplot(data=gs1, x='Genre',y='value',hue='variable',palette='gnuplot_r')\n",
        "plt.xticks(rotation =90)"
      ],
      "execution_count": 189,
      "outputs": [
        {
          "output_type": "execute_result",
          "data": {
            "text/plain": [
              "([0, 1, 2, 3, 4, 5, 6, 7, 8, 9], <a list of 10 Text major ticklabel objects>)"
            ]
          },
          "metadata": {},
          "execution_count": 189
        },
        {
          "output_type": "display_data",
          "data": {
            "image/png": "[encoded data removed]",
            "text/plain": [
              "<Figure size 432x288 with 1 Axes>"
            ]
          },
          "metadata": {
            "needs_background": "light"
          }
        }
      ]
    },
    {
      "cell_type": "code",
      "metadata": {
        "id": "BD_s_YcmJO2n",
        "outputId": "a9678654-956f-4049-bdd5-9835b4d78b83",
        "colab": {
          "base_uri": "https://localhost:8080/",
          "height": 1000
        }
      },
      "source": [
        "data_reg = df_sales_new_filter.copy()\n",
        "\n",
        "data_reg = data_reg[data_reg.NA_Sales != 0]\n",
        "data_reg = data_reg[data_reg.EU_Sales != 0]\n",
        "data_reg = data_reg[data_reg.Other_Sales != 0]\n",
        "data_reg = data_reg[data_reg.JP_Sales != 0]\n",
        "data_reg = data_reg[data_reg.total_sales != 0]\n",
        "\n",
        "plt.figure(figsize=(25,30))\n",
        "sales_columns = ['NA_Sales', 'EU_Sales', 'JP_Sales', 'Other_Sales', 'total_sales']\n",
        "for i, column in enumerate(sales_columns):\n",
        "    plt.subplot(3,2,i+1)\n",
        "    sns.distplot(np.log(data_reg[column]), bins=20, kde=False, fit=stats.gamma, color='purple');"
      ],
      "execution_count": 287,
      "outputs": [
        {
          "output_type": "stream",
          "name": "stderr",
          "text": [
            "/usr/local/lib/python3.7/dist-packages/seaborn/distributions.py:2619: FutureWarning:\n",
            "\n",
            "`distplot` is a deprecated function and will be removed in a future version. Please adapt your code to use either `displot` (a figure-level function with similar flexibility) or `histplot` (an axes-level function for histograms).\n",
            "\n",
            "/usr/local/lib/python3.7/dist-packages/seaborn/distributions.py:2619: FutureWarning:\n",
            "\n",
            "`distplot` is a deprecated function and will be removed in a future version. Please adapt your code to use either `displot` (a figure-level function with similar flexibility) or `histplot` (an axes-level function for histograms).\n",
            "\n",
            "/usr/local/lib/python3.7/dist-packages/seaborn/distributions.py:2619: FutureWarning:\n",
            "\n",
            "`distplot` is a deprecated function and will be removed in a future version. Please adapt your code to use either `displot` (a figure-level function with similar flexibility) or `histplot` (an axes-level function for histograms).\n",
            "\n",
            "/usr/local/lib/python3.7/dist-packages/seaborn/distributions.py:2619: FutureWarning:\n",
            "\n",
            "`distplot` is a deprecated function and will be removed in a future version. Please adapt your code to use either `displot` (a figure-level function with similar flexibility) or `histplot` (an axes-level function for histograms).\n",
            "\n",
            "/usr/local/lib/python3.7/dist-packages/seaborn/distributions.py:2619: FutureWarning:\n",
            "\n",
            "`distplot` is a deprecated function and will be removed in a future version. Please adapt your code to use either `displot` (a figure-level function with similar flexibility) or `histplot` (an axes-level function for histograms).\n",
            "\n"
          ]
        },
        {
          "output_type": "display_data",
          "data": {
            "image/png": "[encoded data removed]",
            "text/plain": [
              "<Figure size 1800x2160 with 5 Axes>"
            ]
          },
          "metadata": {
            "needs_background": "light"
          }
        }
      ]
    },
    {
      "cell_type": "code",
      "metadata": {
        "id": "xGCjRywFwCI_"
      },
      "source": [
        "#PCA 어디에?\n",
        "#clustering 어떻게?"
      ],
      "execution_count": 191,
      "outputs": []
    }
  ]
}